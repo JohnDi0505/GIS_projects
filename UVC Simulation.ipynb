{
 "cells": [
  {
   "cell_type": "code",
   "execution_count": 1,
   "metadata": {
    "ExecuteTime": {
     "end_time": "2020-05-25T18:17:51.732070Z",
     "start_time": "2020-05-25T18:17:51.672241Z"
    }
   },
   "outputs": [],
   "source": [
    "import open3d as o3d\n",
    "import numpy as np\n",
    "import colour\n",
    "from pint import UnitRegistry\n",
    "import matplotlib.pyplot as plt"
   ]
  },
  {
   "cell_type": "code",
   "execution_count": null,
   "metadata": {
    "ExecuteTime": {
     "end_time": "2020-05-22T18:46:37.771151Z",
     "start_time": "2020-05-22T18:46:37.482921Z"
    }
   },
   "outputs": [],
   "source": [
    "pcd = o3d.io.read_point_cloud(\"test_scan_100000.pcd\")\n",
    "\n",
    "print(pcd)\n",
    "print(np.asarray(pcd.points))\n",
    "#o3d.visualization.draw_geometries([pcd])"
   ]
  },
  {
   "cell_type": "code",
   "execution_count": null,
   "metadata": {
    "ExecuteTime": {
     "end_time": "2020-05-22T18:46:37.774142Z",
     "start_time": "2020-05-22T18:46:34.285Z"
    }
   },
   "outputs": [],
   "source": [
    "diameter = np.linalg.norm(np.asarray(pcd.get_max_bound()) - np.asarray(pcd.get_min_bound()))\n",
    "o3d.visualization.draw_geometries([pcd])"
   ]
  },
  {
   "cell_type": "code",
   "execution_count": null,
   "metadata": {
    "ExecuteTime": {
     "end_time": "2020-05-22T19:11:07.534803Z",
     "start_time": "2020-05-22T19:10:34.899264Z"
    }
   },
   "outputs": [],
   "source": [
    "pcd = o3d.io.read_point_cloud(\"RUGeoMuseum_2.pts\")\n",
    "print(pcd)\n",
    "print(np.asarray(pcd.points))"
   ]
  },
  {
   "cell_type": "code",
   "execution_count": null,
   "metadata": {
    "ExecuteTime": {
     "end_time": "2020-05-22T19:11:10.604037Z",
     "start_time": "2020-05-22T19:11:10.547191Z"
    }
   },
   "outputs": [],
   "source": [
    "min_bound = np.asarray(pcd.get_max_bound())\n",
    "min_bound"
   ]
  },
  {
   "cell_type": "code",
   "execution_count": null,
   "metadata": {
    "ExecuteTime": {
     "end_time": "2020-05-22T19:11:11.654727Z",
     "start_time": "2020-05-22T19:11:11.603863Z"
    }
   },
   "outputs": [],
   "source": [
    "max_bound = np.asarray(pcd.get_min_bound())\n",
    "max_bound"
   ]
  },
  {
   "cell_type": "code",
   "execution_count": null,
   "metadata": {
    "ExecuteTime": {
     "end_time": "2020-05-22T19:11:12.290782Z",
     "start_time": "2020-05-22T19:11:12.283801Z"
    }
   },
   "outputs": [],
   "source": [
    "mid_position = (min_bound + max_bound) / 2\n",
    "mid_position"
   ]
  },
  {
   "cell_type": "code",
   "execution_count": null,
   "metadata": {
    "ExecuteTime": {
     "end_time": "2020-05-22T23:46:49.804929Z",
     "start_time": "2020-05-22T19:18:11.035655Z"
    }
   },
   "outputs": [],
   "source": [
    "camera = [6.317, -2.375, -57.286]\n",
    "radius = 5\n",
    "\n",
    "print(\"Get all points that are visible from given view point\")\n",
    "_, pt_map = pcd.hidden_point_removal(camera, radius)\n",
    "\n",
    "print(\"Visualize result\")\n",
    "pcd2 = pcd.select_by_index(pt_map)\n",
    "o3d.visualization.draw_geometries([pcd2])"
   ]
  },
  {
   "cell_type": "markdown",
   "metadata": {},
   "source": [
    "# Register Point Cloud from Virtual Scans"
   ]
  },
  {
   "cell_type": "code",
   "execution_count": null,
   "metadata": {
    "ExecuteTime": {
     "end_time": "2020-05-25T22:20:47.274702Z",
     "start_time": "2020-05-25T22:20:47.269714Z"
    }
   },
   "outputs": [],
   "source": [
    "import os"
   ]
  },
  {
   "cell_type": "code",
   "execution_count": null,
   "metadata": {
    "ExecuteTime": {
     "end_time": "2020-05-25T22:38:26.362794Z",
     "start_time": "2020-05-25T22:38:21.715065Z"
    },
    "scrolled": true
   },
   "outputs": [],
   "source": [
    "dir_name = \"test_scan/\"\n",
    "\n",
    "scan_config = (0, 3.5, 100)\n",
    "\n",
    "scan_loc = np.linspace(scan_config[0], scan_config[1], scan_config[2])\n",
    "    \n",
    "Pcd = o3d.geometry.PointCloud()\n",
    "\n",
    "n = 0\n",
    "for i in range(scan_config[2]):\n",
    "    temp = o3d.io.read_point_cloud(\"test_scan/test_scan_%d00000.pcd\" % (i))\n",
    "    temp.translate((0,scan_loc[n],0))\n",
    "    Pcd += temp\n",
    "    n += 1\n",
    "    \n",
    "print(np.asarray(Pcd))"
   ]
  },
  {
   "cell_type": "code",
   "execution_count": null,
   "metadata": {
    "ExecuteTime": {
     "end_time": "2020-05-26T00:02:45.625538Z",
     "start_time": "2020-05-25T23:59:52.467290Z"
    }
   },
   "outputs": [],
   "source": [
    "o3d.visualization.draw_geometries([Pcd])"
   ]
  },
  {
   "cell_type": "markdown",
   "metadata": {},
   "source": [
    "# UVC Visibility Analysis using Mesh-Generated Point Cloud"
   ]
  },
  {
   "cell_type": "code",
   "execution_count": 2,
   "metadata": {
    "ExecuteTime": {
     "end_time": "2020-05-25T18:18:00.899811Z",
     "start_time": "2020-05-25T18:18:00.879863Z"
    }
   },
   "outputs": [
    {
     "name": "stdout",
     "output_type": "stream",
     "text": [
      "geometry::TriangleMesh with 198489 points and 66163 triangles.\n"
     ]
    }
   ],
   "source": [
    "mesh = o3d.io.read_triangle_mesh(\"bedroom.stl\")\n",
    "mesh.compute_vertex_normals()\n",
    "print(mesh)"
   ]
  },
  {
   "cell_type": "code",
   "execution_count": 3,
   "metadata": {},
   "outputs": [
    {
     "data": {
      "text/plain": [
       "geometry::TriangleMesh with 8 points and 12 triangles."
      ]
     },
     "execution_count": 3,
     "metadata": {},
     "output_type": "execute_result"
    }
   ],
   "source": [
    "mesh_box = o3d.geometry.TriangleMesh.create_box(width=1.0,\n",
    "                                                height=1.0,\n",
    "                                                depth=1.0)\n",
    "mesh_box.paint_uniform_color([0.9, 0.1, 0.1])\n",
    "mesh_box.compute_vertex_normals()\n",
    "mesh_box.translate([-10, 0, 0])"
   ]
  },
  {
   "cell_type": "code",
   "execution_count": 4,
   "metadata": {},
   "outputs": [],
   "source": [
    "o3d.visualization.draw_geometries(\n",
    "        [mesh_box, mesh])"
   ]
  },
  {
   "cell_type": "code",
   "execution_count": 5,
   "metadata": {},
   "outputs": [],
   "source": [
    "mesh_comb = mesh + mesh_box"
   ]
  },
  {
   "cell_type": "code",
   "execution_count": 6,
   "metadata": {
    "ExecuteTime": {
     "end_time": "2020-05-25T18:18:32.284530Z",
     "start_time": "2020-05-25T18:18:03.249400Z"
    }
   },
   "outputs": [],
   "source": [
    "o3d.visualization.draw_geometries([mesh_comb])"
   ]
  },
  {
   "cell_type": "code",
   "execution_count": null,
   "metadata": {
    "ExecuteTime": {
     "end_time": "2020-05-25T18:24:01.735121Z",
     "start_time": "2020-05-25T18:18:46.081978Z"
    }
   },
   "outputs": [],
   "source": [
    "Total_points = 500000\n",
    "\n",
    "pcd = mesh_comb.sample_points_poisson_disk(Total_points)\n",
    "diameter = np.linalg.norm(np.asarray(pcd.get_max_bound()) - np.asarray(pcd.get_min_bound()))\n",
    "o3d.visualization.draw_geometries([pcd])"
   ]
  },
  {
   "cell_type": "code",
   "execution_count": null,
   "metadata": {},
   "outputs": [],
   "source": [
    "cropped = pcd.crop(mesh_box.get_oriented_bounding_box())\n",
    "o3d.visualization.draw_geometries([cropped])\n",
    "\n",
    "# cropped2 = pcd.crop(mesh_box.get_axis_aligned_bounding_box())\n",
    "# o3d.visualization.draw_geometries([cropped])"
   ]
  },
  {
   "cell_type": "code",
   "execution_count": null,
   "metadata": {},
   "outputs": [],
   "source": [
    "len(np.asarray(cropped.points))"
   ]
  },
  {
   "cell_type": "code",
   "execution_count": null,
   "metadata": {},
   "outputs": [],
   "source": [
    "ureg = UnitRegistry()"
   ]
  },
  {
   "cell_type": "code",
   "execution_count": null,
   "metadata": {},
   "outputs": [],
   "source": [
    "a = (1 * ureg.feet).to('meter') * (1 * ureg.feet).to('meter')\n",
    "area_per_point = a * 6 / len(np.asarray(cropped.points))\n",
    "area_per_point"
   ]
  },
  {
   "cell_type": "code",
   "execution_count": null,
   "metadata": {},
   "outputs": [],
   "source": [
    "camera = [1, 0, 0.5]\n",
    "radius = 4\n",
    "\n",
    "print(\"Get all points that are visible from given view point\")\n",
    "_, pt_map = pcd.hidden_point_removal(camera, radius)\n",
    "\n",
    "print(\"Visualize result\")\n",
    "pcd_cam = pcd.select_by_index(pt_map)\n",
    "o3d.visualization.draw_geometries([pcd_cam])"
   ]
  },
  {
   "cell_type": "code",
   "execution_count": null,
   "metadata": {
    "ExecuteTime": {
     "end_time": "2020-05-26T00:11:53.193415Z",
     "start_time": "2020-05-26T00:10:27.467459Z"
    }
   },
   "outputs": [],
   "source": [
    "Pcd = o3d.geometry.PointCloud()\n",
    "\n",
    "for i in np.linspace(0, 3, 6):\n",
    "    camera = [1, i, 1]\n",
    "    \n",
    "    _, pt_map = pcd.hidden_point_removal(camera, radius)\n",
    "\n",
    "    pcd_cam = pcd.select_by_index(pt_map)\n",
    "    \n",
    "    Pcd += pcd_cam\n",
    "    \n",
    "o3d.visualization.draw_geometries([Pcd, mesh_box])"
   ]
  },
  {
   "cell_type": "code",
   "execution_count": null,
   "metadata": {
    "ExecuteTime": {
     "end_time": "2020-05-25T18:16:32.532777Z",
     "start_time": "2020-05-25T18:16:32.528756Z"
    }
   },
   "outputs": [],
   "source": [
    "Pcd"
   ]
  },
  {
   "cell_type": "code",
   "execution_count": null,
   "metadata": {
    "ExecuteTime": {
     "end_time": "2020-05-26T00:17:25.882658Z",
     "start_time": "2020-05-26T00:14:33.868909Z"
    }
   },
   "outputs": [],
   "source": [
    "Pcd = o3d.geometry.PointCloud()\n",
    "\n",
    "Pcd_set = set()\n",
    "\n",
    "for i in np.linspace(0, 3, 6):\n",
    "    camera = [1, i, 1]\n",
    "    \n",
    "    _, pt_map = pcd.hidden_point_removal(camera, 3)\n",
    "\n",
    "    pcd_temp = pcd.select_by_index(pt_map)\n",
    "    \n",
    "    pcd_temp_set = set(map(tuple, np.asarray(pcd_temp.points)))\n",
    "    \n",
    "    Pcd_set = Pcd_set.union(pcd_temp_set)\n",
    "    \n",
    "Pcd_2nparray = np.array(list(Pcd_set))\n",
    "\n",
    "Pcd.points = o3d.utility.Vector3dVector(Pcd_2nparray)\n",
    "\n",
    "o3d.visualization.draw_geometries([Pcd])"
   ]
  },
  {
   "cell_type": "code",
   "execution_count": null,
   "metadata": {
    "ExecuteTime": {
     "end_time": "2020-05-25T18:17:03.069887Z",
     "start_time": "2020-05-25T18:17:03.065902Z"
    }
   },
   "outputs": [],
   "source": [
    "Pcd"
   ]
  },
  {
   "cell_type": "markdown",
   "metadata": {},
   "source": [
    "# Calculate UVC Light Dose"
   ]
  },
  {
   "cell_type": "markdown",
   "metadata": {},
   "source": [
    "Product Name: ClorDiSys Lantern UV Disinfection System\n",
    "\n",
    "Irradiance: 150 micro watt per square centimeter at 4 feet  (1.5  watt/m2, r = 1.219 m) <br>\n",
    "Irradiance: 22  micro watt per square centimeter at 10 feet (0.22 watt/m2, r = 3.048 m)\n",
    "\n",
    "Since UV Light Intensity is the total amount of energy, it is eqaual to the product between the irradiance (i) and the area of a sphere with its radius equal to the distance (r):\n",
    "\n",
    "I = i * (4 * pie * r^2)      equation 1\n",
    "\n",
    "UV Light Intensity (I) is inversely proportional to the square of distance\n",
    "\n",
    "I = k * (1 / r^2) + b      equation 2\n",
    "\n",
    "1.5 * (4 * pie * (1.219)^2) = k * (1 / (1.219)^2) + b <br>\n",
    "0.22 * (4 * pie * (3.048)^2) = k * (1 / (3.048)^2) + b\n",
    "\n",
    "k = 4.1139, b = 25.2412"
   ]
  },
  {
   "cell_type": "code",
   "execution_count": null,
   "metadata": {},
   "outputs": [],
   "source": [
    "i1 = 1.5 * ureg.watt / (ureg.meter * ureg.meter)\n",
    "r1 = (4 * ureg.feet).to('meter')\n",
    "\n",
    "i2 = 0.22 * ureg.watt / (ureg.meter * ureg.meter)\n",
    "r2 = (10 * ureg.feet).to('meter')"
   ]
  },
  {
   "cell_type": "code",
   "execution_count": null,
   "metadata": {},
   "outputs": [],
   "source": [
    "k = (i1 * (4 * np.pi * (r1)**2) - i2 * (4 * np.pi * (r2)**2)) / (1 / (r1)**2 - 1 / (r2)**2)\n",
    "b = i1 * (4 * np.pi * (r1)**2) - k * (1 / (r1)**2)\n",
    "\n",
    "print(k, b)"
   ]
  },
  {
   "cell_type": "code",
   "execution_count": null,
   "metadata": {},
   "outputs": [],
   "source": [
    "Q_ = ureg.Quantity\n",
    "r = Q_(np.linspace(0.5, 10, 100), 'meter')\n",
    "Intensity = k * (1 / np.square(r)) + b\n",
    "irradiance = Intensity / (4 * np.pi * (r**2))"
   ]
  },
  {
   "cell_type": "code",
   "execution_count": null,
   "metadata": {},
   "outputs": [],
   "source": [
    "fig, ax = plt.subplots(nrows=1, ncols=2, figsize = (20, 10))\n",
    "\n",
    "ax[0].plot(r, Intensity)\n",
    "ax[1].plot(r, irradiance)\n",
    "ax[1].plot([r1.magnitude, r1.magnitude], [0, 2], '--r', linewidth = 0.5)\n",
    "ax[1].plot([r2.magnitude, r2.magnitude], [0, 2], '--r', linewidth = 0.5)\n",
    "\n",
    "ax[1].set_ylim(0, 1.6)\n",
    "\n",
    "ax[0].set_xlabel(\"Distance (m)\", fontsize=12)\n",
    "ax[1].set_xlabel(\"Distance (m)\", fontsize=12)\n",
    "ax[0].set_ylabel(\"UV Intensity (watt)\", fontsize=12)\n",
    "ax[1].set_ylabel(\"UV Irradiance (watt/m2)\", fontsize=12)"
   ]
  },
  {
   "cell_type": "markdown",
   "metadata": {},
   "source": [
    "# UVC Irradiance"
   ]
  },
  {
   "cell_type": "code",
   "execution_count": null,
   "metadata": {},
   "outputs": [],
   "source": [
    "camera = [1, 1, 1]\n",
    "radius = 10\n",
    "\n",
    "mesh_cylinder = o3d.geometry.TriangleMesh.create_cylinder(radius=0.15, height=0.5)\n",
    "mesh_cylinder.compute_vertex_normals()\n",
    "mesh_cylinder.translate(camera)\n",
    "mesh_cylinder.paint_uniform_color([0.1, 0.9, 0.1])\n",
    "\n",
    "print(\"Get all points that are visible from given view point\")\n",
    "_, pt_map = pcd.hidden_point_removal(camera, radius)\n",
    "\n",
    "print(\"Visualize result\")\n",
    "pcd_cam = pcd.select_by_index(pt_map)\n",
    "o3d.visualization.draw_geometries([mesh, pcd_cam, mesh_cylinder])"
   ]
  },
  {
   "cell_type": "code",
   "execution_count": null,
   "metadata": {},
   "outputs": [],
   "source": [
    "Q_ = ureg.Quantity\n",
    "distance = Q_(np.linalg.norm(np.asarray(pcd_cam.points)-np.array(camera), axis=1), 'feet')"
   ]
  },
  {
   "cell_type": "markdown",
   "metadata": {},
   "source": [
    "# Point Cloud Color"
   ]
  },
  {
   "cell_type": "code",
   "execution_count": null,
   "metadata": {},
   "outputs": [],
   "source": [
    "pc = o3d.geometry.PointCloud()\n",
    "\n",
    "point_set = np.array([(x, 0, 0) for x in np.linspace(0, 5, 100)])\n",
    "\n",
    "pc.points = o3d.utility.Vector3dVector(point_set)\n",
    "\n",
    "colors = [x.rgb for x in list(red.range_to(blue,100))]\n",
    "pc.colors = o3d.utility.Vector3dVector(colors)\n",
    "\n",
    "print(pc)\n",
    "o3d.visualization.draw_geometries([pc])"
   ]
  },
  {
   "cell_type": "code",
   "execution_count": null,
   "metadata": {},
   "outputs": [],
   "source": [
    "o3d.visualization.draw_geometries([])"
   ]
  }
 ],
 "metadata": {
  "kernelspec": {
   "display_name": "Python 3",
   "language": "python",
   "name": "python3"
  },
  "language_info": {
   "codemirror_mode": {
    "name": "ipython",
    "version": 3
   },
   "file_extension": ".py",
   "mimetype": "text/x-python",
   "name": "python",
   "nbconvert_exporter": "python",
   "pygments_lexer": "ipython3",
   "version": "3.7.6"
  },
  "latex_envs": {
   "LaTeX_envs_menu_present": true,
   "autoclose": true,
   "autocomplete": true,
   "bibliofile": "biblio.bib",
   "cite_by": "apalike",
   "current_citInitial": 1,
   "eqLabelWithNumbers": true,
   "eqNumInitial": 1,
   "hotkeys": {
    "equation": "Ctrl-E",
    "itemize": "Ctrl-I"
   },
   "labels_anchors": false,
   "latex_user_defs": false,
   "report_style_numbering": false,
   "user_envs_cfg": false
  },
  "varInspector": {
   "cols": {
    "lenName": 16,
    "lenType": 16,
    "lenVar": 40
   },
   "kernels_config": {
    "python": {
     "delete_cmd_postfix": "",
     "delete_cmd_prefix": "del ",
     "library": "var_list.py",
     "varRefreshCmd": "print(var_dic_list())"
    },
    "r": {
     "delete_cmd_postfix": ") ",
     "delete_cmd_prefix": "rm(",
     "library": "var_list.r",
     "varRefreshCmd": "cat(var_dic_list()) "
    }
   },
   "types_to_exclude": [
    "module",
    "function",
    "builtin_function_or_method",
    "instance",
    "_Feature"
   ],
   "window_display": true
  }
 },
 "nbformat": 4,
 "nbformat_minor": 2
}
