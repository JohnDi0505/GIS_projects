{
 "cells": [
  {
   "cell_type": "code",
   "execution_count": 1,
   "metadata": {
    "ExecuteTime": {
     "end_time": "2020-05-25T18:17:51.732070Z",
     "start_time": "2020-05-25T18:17:51.672241Z"
    }
   },
   "outputs": [],
   "source": [
    "import open3d as o3d\n",
    "import numpy as np\n",
    "import colour\n",
    "from pint import UnitRegistry\n",
    "import matplotlib.pyplot as plt"
   ]
  },
  {
   "cell_type": "markdown",
   "metadata": {},
   "source": [
    "# Test Hidden Points Removal Using RU Geomuseum Point Cloud"
   ]
  },
  {
   "cell_type": "code",
   "execution_count": null,
   "metadata": {
    "ExecuteTime": {
     "end_time": "2020-05-22T18:46:37.771151Z",
     "start_time": "2020-05-22T18:46:37.482921Z"
    }
   },
   "outputs": [],
   "source": [
    "pcd = o3d.io.read_point_cloud(\"test_scan_100000.pcd\")\n",
    "\n",
    "print(pcd)\n",
    "print(np.asarray(pcd.points))\n",
    "#o3d.visualization.draw_geometries([pcd])"
   ]
  },
  {
   "cell_type": "code",
   "execution_count": null,
   "metadata": {
    "ExecuteTime": {
     "end_time": "2020-05-22T18:46:37.774142Z",
     "start_time": "2020-05-22T18:46:34.285Z"
    }
   },
   "outputs": [],
   "source": [
    "diameter = np.linalg.norm(np.asarray(pcd.get_max_bound()) - np.asarray(pcd.get_min_bound()))\n",
    "o3d.visualization.draw_geometries([pcd])"
   ]
  },
  {
   "cell_type": "code",
   "execution_count": null,
   "metadata": {
    "ExecuteTime": {
     "end_time": "2020-05-22T19:11:07.534803Z",
     "start_time": "2020-05-22T19:10:34.899264Z"
    }
   },
   "outputs": [],
   "source": [
    "pcd = o3d.io.read_point_cloud(\"RUGeoMuseum_2.pts\")\n",
    "print(pcd)\n",
    "print(np.asarray(pcd.points))"
   ]
  },
  {
   "cell_type": "code",
   "execution_count": null,
   "metadata": {
    "ExecuteTime": {
     "end_time": "2020-05-22T19:11:10.604037Z",
     "start_time": "2020-05-22T19:11:10.547191Z"
    }
   },
   "outputs": [],
   "source": [
    "min_bound = np.asarray(pcd.get_max_bound())\n",
    "min_bound"
   ]
  },
  {
   "cell_type": "code",
   "execution_count": null,
   "metadata": {
    "ExecuteTime": {
     "end_time": "2020-05-22T19:11:11.654727Z",
     "start_time": "2020-05-22T19:11:11.603863Z"
    }
   },
   "outputs": [],
   "source": [
    "max_bound = np.asarray(pcd.get_min_bound())\n",
    "max_bound"
   ]
  },
  {
   "cell_type": "code",
   "execution_count": null,
   "metadata": {
    "ExecuteTime": {
     "end_time": "2020-05-22T19:11:12.290782Z",
     "start_time": "2020-05-22T19:11:12.283801Z"
    }
   },
   "outputs": [],
   "source": [
    "mid_position = (min_bound + max_bound) / 2\n",
    "mid_position"
   ]
  },
  {
   "cell_type": "code",
   "execution_count": null,
   "metadata": {
    "ExecuteTime": {
     "end_time": "2020-05-22T23:46:49.804929Z",
     "start_time": "2020-05-22T19:18:11.035655Z"
    }
   },
   "outputs": [],
   "source": [
    "camera = [6.317, -2.375, -57.286]\n",
    "radius = 5\n",
    "\n",
    "print(\"Get all points that are visible from given view point\")\n",
    "_, pt_map = pcd.hidden_point_removal(camera, radius)\n",
    "\n",
    "print(\"Visualize result\")\n",
    "pcd2 = pcd.select_by_index(pt_map)\n",
    "o3d.visualization.draw_geometries([pcd2])"
   ]
  },
  {
   "cell_type": "markdown",
   "metadata": {},
   "source": [
    "# Register Point Cloud from Virtual Scans"
   ]
  },
  {
   "cell_type": "code",
   "execution_count": null,
   "metadata": {
    "ExecuteTime": {
     "end_time": "2020-05-25T22:20:47.274702Z",
     "start_time": "2020-05-25T22:20:47.269714Z"
    }
   },
   "outputs": [],
   "source": [
    "import os"
   ]
  },
  {
   "cell_type": "code",
   "execution_count": null,
   "metadata": {
    "ExecuteTime": {
     "end_time": "2020-05-25T22:38:26.362794Z",
     "start_time": "2020-05-25T22:38:21.715065Z"
    },
    "scrolled": true
   },
   "outputs": [],
   "source": [
    "dir_name = \"test_scan/\"\n",
    "\n",
    "scan_config = (0, 3.5, 100)\n",
    "\n",
    "scan_loc = np.linspace(scan_config[0], scan_config[1], scan_config[2])\n",
    "    \n",
    "Pcd = o3d.geometry.PointCloud()\n",
    "\n",
    "n = 0\n",
    "for i in range(scan_config[2]):\n",
    "    temp = o3d.io.read_point_cloud(\"test_scan/test_scan_%d00000.pcd\" % (i))\n",
    "    temp.translate((0,scan_loc[n],0))\n",
    "    Pcd += temp\n",
    "    n += 1\n",
    "    \n",
    "print(np.asarray(Pcd))"
   ]
  },
  {
   "cell_type": "code",
   "execution_count": null,
   "metadata": {
    "ExecuteTime": {
     "end_time": "2020-05-26T00:02:45.625538Z",
     "start_time": "2020-05-25T23:59:52.467290Z"
    }
   },
   "outputs": [],
   "source": [
    "o3d.visualization.draw_geometries([Pcd])"
   ]
  },
  {
   "cell_type": "markdown",
   "metadata": {},
   "source": [
    "# UVC Visibility Analysis using Mesh-Generated Point Cloud"
   ]
  },
  {
   "cell_type": "code",
   "execution_count": 2,
   "metadata": {
    "ExecuteTime": {
     "end_time": "2020-05-25T18:18:00.899811Z",
     "start_time": "2020-05-25T18:18:00.879863Z"
    }
   },
   "outputs": [
    {
     "name": "stdout",
     "output_type": "stream",
     "text": [
      "geometry::TriangleMesh with 198489 points and 66163 triangles.\n"
     ]
    }
   ],
   "source": [
    "mesh = o3d.io.read_triangle_mesh(\"bedroom.stl\")\n",
    "mesh.compute_vertex_normals()\n",
    "print(mesh)"
   ]
  },
  {
   "cell_type": "code",
   "execution_count": 3,
   "metadata": {},
   "outputs": [
    {
     "data": {
      "text/plain": [
       "geometry::TriangleMesh with 8 points and 12 triangles."
      ]
     },
     "execution_count": 3,
     "metadata": {},
     "output_type": "execute_result"
    }
   ],
   "source": [
    "mesh_box = o3d.geometry.TriangleMesh.create_box(width=1.0,\n",
    "                                                height=1.0,\n",
    "                                                depth=1.0)\n",
    "mesh_box.paint_uniform_color([0.9, 0.1, 0.1])\n",
    "mesh_box.compute_vertex_normals()\n",
    "mesh_box.translate([-10, 0, 0])"
   ]
  },
  {
   "cell_type": "code",
   "execution_count": 4,
   "metadata": {},
   "outputs": [],
   "source": [
    "o3d.visualization.draw_geometries(\n",
    "        [mesh_box, mesh])"
   ]
  },
  {
   "cell_type": "code",
   "execution_count": 5,
   "metadata": {},
   "outputs": [],
   "source": [
    "mesh_comb = mesh + mesh_box"
   ]
  },
  {
   "cell_type": "code",
   "execution_count": 6,
   "metadata": {
    "ExecuteTime": {
     "end_time": "2020-05-25T18:18:32.284530Z",
     "start_time": "2020-05-25T18:18:03.249400Z"
    }
   },
   "outputs": [],
   "source": [
    "o3d.visualization.draw_geometries([mesh_comb])"
   ]
  },
  {
   "cell_type": "code",
   "execution_count": 7,
   "metadata": {
    "ExecuteTime": {
     "end_time": "2020-05-25T18:24:01.735121Z",
     "start_time": "2020-05-25T18:18:46.081978Z"
    }
   },
   "outputs": [],
   "source": [
    "Total_points = 500000\n",
    "\n",
    "pcd = mesh_comb.sample_points_poisson_disk(Total_points)\n",
    "diameter = np.linalg.norm(np.asarray(pcd.get_max_bound()) - np.asarray(pcd.get_min_bound()))\n",
    "o3d.visualization.draw_geometries([pcd])"
   ]
  },
  {
   "cell_type": "code",
   "execution_count": 8,
   "metadata": {},
   "outputs": [],
   "source": [
    "cropped = pcd.crop(mesh_box.get_oriented_bounding_box())\n",
    "o3d.visualization.draw_geometries([cropped])\n",
    "\n",
    "# cropped2 = pcd.crop(mesh_box.get_axis_aligned_bounding_box())\n",
    "# o3d.visualization.draw_geometries([cropped])"
   ]
  },
  {
   "cell_type": "code",
   "execution_count": 9,
   "metadata": {},
   "outputs": [
    {
     "data": {
      "text/plain": [
       "4801"
      ]
     },
     "execution_count": 9,
     "metadata": {},
     "output_type": "execute_result"
    }
   ],
   "source": [
    "len(np.asarray(cropped.points))"
   ]
  },
  {
   "cell_type": "code",
   "execution_count": 8,
   "metadata": {},
   "outputs": [],
   "source": [
    "ureg = UnitRegistry()"
   ]
  },
  {
   "cell_type": "code",
   "execution_count": 11,
   "metadata": {},
   "outputs": [
    {
     "data": {
      "text/html": [
       "\\[0.00011610461153926261\\ meter^2\\]"
      ],
      "text/latex": [
       "$0.00011610461153926261\\ \\mathrm{meter}^{2}$"
      ],
      "text/plain": [
       "0.00011610461153926261 <Unit('meter ** 2')>"
      ]
     },
     "execution_count": 11,
     "metadata": {},
     "output_type": "execute_result"
    }
   ],
   "source": [
    "a = (1 * ureg.feet).to('meter') * (1 * ureg.feet).to('meter')\n",
    "area_per_point = a * 6 / len(np.asarray(cropped.points))\n",
    "area_per_point"
   ]
  },
  {
   "cell_type": "code",
   "execution_count": null,
   "metadata": {},
   "outputs": [],
   "source": [
    "camera = [1, 0, 0.5]\n",
    "radius = 4\n",
    "\n",
    "print(\"Get all points that are visible from given view point\")\n",
    "_, pt_map = pcd.hidden_point_removal(camera, radius)\n",
    "\n",
    "print(\"Visualize result\")\n",
    "pcd_cam = pcd.select_by_index(pt_map)\n",
    "o3d.visualization.draw_geometries([pcd_cam])"
   ]
  },
  {
   "cell_type": "code",
   "execution_count": null,
   "metadata": {
    "ExecuteTime": {
     "end_time": "2020-05-26T00:11:53.193415Z",
     "start_time": "2020-05-26T00:10:27.467459Z"
    }
   },
   "outputs": [],
   "source": [
    "Pcd = o3d.geometry.PointCloud()\n",
    "\n",
    "for i in np.linspace(0, 3, 6):\n",
    "    camera = [1, i, 1]\n",
    "    \n",
    "    _, pt_map = pcd.hidden_point_removal(camera, radius)\n",
    "\n",
    "    pcd_cam = pcd.select_by_index(pt_map)\n",
    "    \n",
    "    Pcd += pcd_cam\n",
    "    \n",
    "o3d.visualization.draw_geometries([Pcd, mesh_box])"
   ]
  },
  {
   "cell_type": "code",
   "execution_count": null,
   "metadata": {
    "ExecuteTime": {
     "end_time": "2020-05-25T18:16:32.532777Z",
     "start_time": "2020-05-25T18:16:32.528756Z"
    }
   },
   "outputs": [],
   "source": [
    "Pcd"
   ]
  },
  {
   "cell_type": "code",
   "execution_count": null,
   "metadata": {
    "ExecuteTime": {
     "end_time": "2020-05-26T00:17:25.882658Z",
     "start_time": "2020-05-26T00:14:33.868909Z"
    }
   },
   "outputs": [],
   "source": [
    "Pcd = o3d.geometry.PointCloud()\n",
    "\n",
    "Pcd_set = set()\n",
    "\n",
    "for i in np.linspace(0, 3, 6):\n",
    "    camera = [1, i, 1]\n",
    "    \n",
    "    _, pt_map = pcd.hidden_point_removal(camera, 3)\n",
    "\n",
    "    pcd_temp = pcd.select_by_index(pt_map)\n",
    "    \n",
    "    pcd_temp_set = set(map(tuple, np.asarray(pcd_temp.points)))\n",
    "    \n",
    "    Pcd_set = Pcd_set.union(pcd_temp_set)\n",
    "    \n",
    "Pcd_2nparray = np.array(list(Pcd_set))\n",
    "\n",
    "Pcd.points = o3d.utility.Vector3dVector(Pcd_2nparray)\n",
    "\n",
    "o3d.visualization.draw_geometries([Pcd])"
   ]
  },
  {
   "cell_type": "code",
   "execution_count": null,
   "metadata": {
    "ExecuteTime": {
     "end_time": "2020-05-25T18:17:03.069887Z",
     "start_time": "2020-05-25T18:17:03.065902Z"
    }
   },
   "outputs": [],
   "source": [
    "Pcd"
   ]
  },
  {
   "cell_type": "markdown",
   "metadata": {},
   "source": [
    "# Calculate UVC Light Dose"
   ]
  },
  {
   "cell_type": "markdown",
   "metadata": {},
   "source": [
    "## Model 1\n",
    "\n",
    "Product Name: ClorDiSys Lantern UV Disinfection System\n",
    "\n",
    "Input Wattage: 110V * 4A = 440W\n",
    "Irradiance: 150 micro watt per square centimeter at 4 feet  (1.5  watt/m2, x = 1.219 m) <br>\n",
    "Irradiance: 22  micro watt per square centimeter at 10 feet (0.22 watt/m2, x = 3.048 m)\n",
    "\n",
    "Since UV Light ***Intensity (I)*** is the total amount of energy, it is eqaual to the product between the ***irradiance (i)*** and the area of a sphere with its radius equal to the ***distance (x > 0)***:\n",
    "\n",
    "\\begin{align}\n",
    "I = i \\cdot 4 \\pi x^2\n",
    "\\end{align}\n",
    "\n",
    "On the other hand, UV Light ***Intensity (I)*** is inversely proportional to the square of ***distance (x)***:\n",
    "\n",
    "\\begin{align}\n",
    "I = \\frac{1}{a(x)^2 + bx + c}\n",
    "\\end{align}\n",
    "\n",
    "where, ***a***, ***b*** and ***c*** are constants. (see ***Nvidia Computer Graphic Tutorial Chapter 5.5.1: Distance Attenuation:***) \n",
    "https://developer.download.nvidia.com/CgTutorial/cg_tutorial_chapter05.html\n",
    "\n",
    "http://csis.pace.edu/~marchese/CG_Rev/Lect10New/cg_l10new.htm\n",
    "\n",
    "For a UV Light source, the constants in the function can be calculated if two points including ***distance (x)*** and ***irradiance (i)*** are measured and its output ***wattage (P)***, which is equal to the ***Intensity (I)*** at ***distance (x)*** 0. Hence,\n",
    "\n",
    "\\begin{align}\n",
    "i_1 \\cdot 4\\pi x_1^2 = \\frac{1}{ax_1^2 + bx_1 + c}, x > 0  \\\\\n",
    "i_2 \\cdot 4\\pi x_2^2 = \\frac{1}{ax_2^2 + bx_2 + c}, x > 0  \\\\\n",
    "P = \\frac{1}{a \\cdot 0^2 + b \\cdot 0 + c} = \\frac{1}{c}, x = 0\n",
    "\\end{align}\n",
    "\n",
    "Then plug in the following data:\n",
    "\\begin{align}\n",
    "1.5 \\cdot 4\\pi \\cdot 1.1219^2 = \\frac{1}{a \\cdot 1.1219^2 + b \\cdot 1.1219 + c}  \\\\\n",
    "0.22 \\cdot 4\\pi \\cdot 3.048^2 = \\frac{1}{a \\cdot 3.048^2 + b \\cdot 3.048 + c}  \\\\\n",
    "400 = \\frac{1}{a \\cdot 0^2 + b \\cdot 0 + c} = \\frac{1}{c}\n",
    "\\end{align}\n",
    "\n",
    "Therefore,\n",
    "\\begin{align}\n",
    "a = −0.0084,\n",
    "b = 0.0377,\n",
    "c = 0.00227\n",
    "\\end{align}"
   ]
  },
  {
   "cell_type": "code",
   "execution_count": 20,
   "metadata": {},
   "outputs": [],
   "source": [
    "P = 1 * ureg.watt\n",
    "\n",
    "i1 = 1.5 * ureg.watt / (ureg.meter * ureg.meter)\n",
    "x1 = (4 * ureg.feet).to('meter')\n",
    "\n",
    "i2 = 0.22 * ureg.watt / (ureg.meter * ureg.meter)\n",
    "x2 = (10 * ureg.feet).to('meter')"
   ]
  },
  {
   "cell_type": "code",
   "execution_count": 26,
   "metadata": {},
   "outputs": [],
   "source": [
    "c = 1 / P\n",
    "\n",
    "b = (1/(i2 * 4 * np.pi * x2**2) - x2**2/(i1 * 4 * np.pi * x1**4) + c * (x2**2/x1**2 - 1)) / (x2 - x2**2/x1)\n",
    "\n",
    "a = 1 / (i1 * 4 * np.pi * x1**4) - b / x1 - c / x1**2"
   ]
  },
  {
   "cell_type": "code",
   "execution_count": 29,
   "metadata": {},
   "outputs": [
    {
     "data": {
      "text/plain": [
       "[<matplotlib.lines.Line2D at 0x2aedd065348>]"
      ]
     },
     "execution_count": 29,
     "metadata": {},
     "output_type": "execute_result"
    },
    {
     "data": {
      "image/png": "[encoded data removed]",
      "text/plain": [
       "<Figure size 432x288 with 1 Axes>"
      ]
     },
     "metadata": {
      "needs_background": "light"
     },
     "output_type": "display_data"
    }
   ],
   "source": [
    "Q_ = ureg.Quantity\n",
    "P = Q_(np.linspace(-10, 10, 100), 'watt')\n",
    "\n",
    "delta = b**2 - 4 * a * c\n",
    "\n",
    "plt.plot(P, delta)"
   ]
  },
  {
   "cell_type": "code",
   "execution_count": 18,
   "metadata": {},
   "outputs": [
    {
     "data": {
      "text/html": [
       "\\[1.5005631498293592\\ watt\\]"
      ],
      "text/latex": [
       "$1.5005631498293592\\ \\mathrm{watt}$"
      ],
      "text/plain": [
       "1.5005631498293592 <Unit('watt')>"
      ]
     },
     "execution_count": 18,
     "metadata": {},
     "output_type": "execute_result"
    }
   ],
   "source": [
    "def IA(x):\n",
    "    I = 1 / (c + b*x + a*x**2)\n",
    "    return(I)\n",
    "\n",
    "IA(1.219 * ureg.meter) / 4 / np.pi / 1.219**2"
   ]
  },
  {
   "cell_type": "code",
   "execution_count": 22,
   "metadata": {},
   "outputs": [
    {
     "data": {
      "text/plain": [
       "[<matplotlib.lines.Line2D at 0x2aedc2af148>]"
      ]
     },
     "execution_count": 22,
     "metadata": {},
     "output_type": "execute_result"
    },
    {
     "data": {
      "image/png": "[encoded data removed]",
      "text/plain": [
       "<Figure size 432x288 with 1 Axes>"
      ]
     },
     "metadata": {
      "needs_background": "light"
     },
     "output_type": "display_data"
    }
   ],
   "source": [
    "Q_ = ureg.Quantity\n",
    "x = Q_(np.linspace(-1, 10, 100), 'meter')\n",
    "y = 1 / (c + b*x + a*x**2)\n",
    "\n",
    "plt.plot(x, y)"
   ]
  },
  {
   "cell_type": "markdown",
   "metadata": {},
   "source": [
    "### Comment on Model 1\n",
    "\n",
    "Model 1 is widely implemented in computer graphics and it is usually combined with other surface lighting effects such as \"diffuse reflection\", \"specular reflection\" and \"ambient\" to compute lightings. It is noted that Model 1 can only be used as a local shading model and the light intensity factor is always considered as 1 if the object is infinitely distant from the light source.\n",
    "\n",
    "According to the plot, the delta value (graph out[29]) in the denominator is always greater thant 0. Once the polynomial equation (the denominator) has roots, the intensity attenuation is not realistically true (graph out[22])."
   ]
  },
  {
   "cell_type": "markdown",
   "metadata": {},
   "source": [
    "## Model 2\n",
    "\n",
    "Since UV Light ***Intensity (I)*** is the total amount of energy, it is eqaual to the product between the ***irradiance (i)*** and the area of a sphere with its radius equal to the ***distance (x > 0)***:\n",
    "\n",
    "\\begin{align}\n",
    "I = i \\cdot 4 \\pi x^2\n",
    "\\end{align}\n",
    "\n",
    "On the other hand, UV Light ***Intensity (I)*** is inversely proportional to the square of ***distance (x)***:\n",
    "\n",
    "\\begin{align}\n",
    "I = k \\cdot \\frac{1}{x^2} + b\n",
    "\\end{align}"
   ]
  },
  {
   "cell_type": "code",
   "execution_count": 57,
   "metadata": {},
   "outputs": [
    {
     "data": {
      "text/html": [
       "\\[1677.9634899188682\\ watt\\]"
      ],
      "text/latex": [
       "$1677.9634899188682\\ \\mathrm{watt}$"
      ],
      "text/plain": [
       "1677.9634899188682 <Unit('watt')>"
      ]
     },
     "execution_count": 57,
     "metadata": {},
     "output_type": "execute_result"
    }
   ],
   "source": [
    "I_max = k * 1 / (r**2) + b\n",
    "I_max"
   ]
  },
  {
   "cell_type": "code",
   "execution_count": 30,
   "metadata": {},
   "outputs": [],
   "source": [
    "r = 0.05 * ureg.meter\n",
    "\n",
    "i1 = 1.5 * ureg.watt / (ureg.meter * ureg.meter)\n",
    "x1 = (4 * ureg.feet).to('meter')\n",
    "\n",
    "i2 = 0.22 * ureg.watt / (ureg.meter * ureg.meter)\n",
    "x2 = (10 * ureg.feet).to('meter')"
   ]
  },
  {
   "cell_type": "code",
   "execution_count": 31,
   "metadata": {},
   "outputs": [
    {
     "name": "stdout",
     "output_type": "stream",
     "text": [
      "4.131810614028642 meter ** 2 * watt 25.239244307411813 watt\n"
     ]
    }
   ],
   "source": [
    "k = (i1 * (4 * np.pi * (x1)**2) - i2 * (4 * np.pi * (x2)**2)) / (1 / x1**2 - 1 / x2**2)\n",
    "b = i1 * (4 * np.pi * (x1)**2) - k * (1 / x1**2)\n",
    "\n",
    "print(k, b)"
   ]
  },
  {
   "cell_type": "code",
   "execution_count": 32,
   "metadata": {},
   "outputs": [],
   "source": [
    "Q_ = ureg.Quantity\n",
    "x = Q_(np.linspace(0.5, 10, 100), 'meter')\n",
    "Intensity = k * (1 / np.square(x)) + b\n",
    "irradiance = Intensity / (4 * np.pi * (x**2))"
   ]
  },
  {
   "cell_type": "code",
   "execution_count": 34,
   "metadata": {},
   "outputs": [
    {
     "data": {
      "text/plain": [
       "Text(0, 0.5, 'UV Irradiance (watt/m2)')"
      ]
     },
     "execution_count": 34,
     "metadata": {},
     "output_type": "execute_result"
    },
    {
     "data": {
      "image/png": "[encoded data removed]",
      "text/plain": [
       "<Figure size 1440x720 with 2 Axes>"
      ]
     },
     "metadata": {
      "needs_background": "light"
     },
     "output_type": "display_data"
    }
   ],
   "source": [
    "fig, ax = plt.subplots(nrows=1, ncols=2, figsize = (20, 10))\n",
    "\n",
    "ax[0].plot(x, Intensity)\n",
    "ax[1].plot(x, irradiance)\n",
    "ax[1].plot([x1.magnitude, x1.magnitude], [0, 2], '--r', linewidth = 0.5)\n",
    "ax[1].plot([x2.magnitude, x2.magnitude], [0, 2], '--r', linewidth = 0.5)\n",
    "\n",
    "ax[1].set_ylim(0, 1.6)\n",
    "\n",
    "ax[0].set_xlabel(\"Distance (m)\", fontsize=12)\n",
    "ax[1].set_xlabel(\"Distance (m)\", fontsize=12)\n",
    "ax[0].set_ylabel(\"UV Intensity (watt)\", fontsize=12)\n",
    "ax[1].set_ylabel(\"UV Irradiance (watt/m2)\", fontsize=12)"
   ]
  },
  {
   "cell_type": "markdown",
   "metadata": {},
   "source": [
    "### Comment on Model 2\n",
    "\n",
    "Model 2 is the simplest version to fit the light intensity attenuation curve. The major disadvantage of this model is: the intensity close to light source is not restricted (out[57]: the intensity of a point close to the UV light is about 1977.9 watt, which is not true in reality). In fact, the intensity at distance equal to 0 should be the output wattage of UV light. As a result, Model 2.1 aims to solve the major issue in Model 2."
   ]
  },
  {
   "cell_type": "markdown",
   "metadata": {},
   "source": [
    "## Model 2.1\n",
    "\n",
    "Model 2.1 is a variation of Model 2, in order to constrain the maximum light intensity at distance equal to 0, a constant ***c*** is added in order to shift the curve to the left to guarrantee an intersection between the curve and y-axis. The value of the intersection is the output wattage of the UV light.\n",
    "\n",
    "The relationship between ***Intensity (I)*** and ***irradiance (i)***:\n",
    "\\begin{align}\n",
    "I = i \\cdot 4 \\pi x^2\n",
    "\\end{align}\n",
    "\n",
    "Shift the function along the negative x-axis direction:\n",
    "\\begin{align}\n",
    "I = k \\cdot \\frac{1}{(x+c)^2} + b\n",
    "\\end{align}\n",
    "\n",
    "Plug in data points:\n",
    "\n",
    "\\begin{align}\n",
    "I_1 = i_1 \\cdot 4\\pi x_1 = k \\cdot \\frac{1}{(x_1+c)^2} + b, x>0\n",
    "\\end{align}\n",
    "\\begin{align}\n",
    "I_2 = i_2 \\cdot 4\\pi x_2 = k \\cdot \\frac{1}{(x_2+c)^2} + b, x>0\n",
    "\\end{align}\n",
    "\\begin{align}\n",
    "P = k \\cdot \\frac{1}{c^2} + b, x=0\n",
    "\\end{align}\n",
    "\n",
    "Substitute ***b***:\n",
    "\n",
    "\\begin{align}\n",
    "I_1-P = k \\cdot (\\frac{1}{(x_1+c)^2} - \\frac{1}{c})\n",
    "\\end{align}\n",
    "\\begin{align}\n",
    "I_2-P = k \\cdot (\\frac{1}{(x_2+c)^2} - \\frac{1}{c})\n",
    "\\end{align}\n",
    "\n",
    "as long as x > 0, ***Intensity (I)*** is not equal to ***output wattage (P)***, then\n",
    "\\begin{align}\n",
    "I - P \\neq 0\n",
    "\\end{align}\n",
    "\n",
    "\\begin{align}\n",
    "\\frac{I_1-P}{I_2-P} = \\frac{x_1(x_1+2c)(x_2+c)^2}{x_2(x_2+2c)(x_1+c)^2}\n",
    "\\end{align}\n",
    "\n",
    "let\n",
    "\\begin{align}\n",
    "S_1 = x_2(I_1-P), S_2 = x_1(I_2-P)\n",
    "\\end{align}\n",
    "\n",
    "\\begin{align}\n",
    "(2S_1 - 2S_2)c^3 + [S_1(4x_1 + x_2)-S_2(4x_2+x_1)]c^2 + [S_1(2x_1^2 + 2x_1 x_2)-S_2(2x_2^2 + 2x_1 x_2)]c + [S_1 x_2 x_1^2 - S_2 x_1 x_2^2] = 0\n",
    "\\end{align}\n",
    "\n",
    "let\n",
    "\\begin{align}\n",
    "m=(2S_1 - 2S_2),  \\\\\n",
    "n=S_1(4x_1 + x_2)-S_2(4x_2+x_1),  \\\\\n",
    "u=S_1(2x_1^2 + 2x_1 x_2)-S_2(2x_2^2 + 2x_1 x_2),  \\\\\n",
    "v=S_1 x_2 x_1^2 - S_2 x_1 x_2^2\n",
    "\\end{align}\n",
    "\n",
    "the equation can be written as:\n",
    "\\begin{align}\n",
    "mc^3 + nc^2 + uc + v = 0\n",
    "\\end{align}\n",
    "\n",
    "divide both side by\n",
    "\\begin{align}\n",
    "m (m \\neq 0),\n",
    "\\end{align}\n",
    "\n",
    "and let\n",
    "\\begin{align}\n",
    "c = y - \\frac{n}{3m}\n",
    "\\end{align}\n",
    "\n",
    "then the equation can be written as\n",
    "\\begin{align}\n",
    "y^3 + py + q = 0, p = \\frac{3mu - n^2}{3m^2}, q = \\frac{27m^2v-9mnu+2n^3}{27m^3}\n",
    "\\end{align}"
   ]
  },
  {
   "cell_type": "code",
   "execution_count": 124,
   "metadata": {},
   "outputs": [],
   "source": [
    "P = 80\n",
    "\n",
    "i1 = 1.5\n",
    "x1 = (4 * ureg.feet).to('meter').magnitude\n",
    "\n",
    "i2 = 0.22\n",
    "x2 = (10 * ureg.feet).to('meter').magnitude"
   ]
  },
  {
   "cell_type": "code",
   "execution_count": 125,
   "metadata": {},
   "outputs": [],
   "source": [
    "I1 = i1 * 4 * np.pi * x1**2\n",
    "I2 = i2 * 4 * np.pi * x2**2\n",
    "\n",
    "S1 = x2 * (I1 - P)\n",
    "S2 = x1 * (I2 - P)\n",
    "\n",
    "m = 2 * (S1 - S2)\n",
    "n = S1 * (4 * x1 + x2) - S2 * (4 * x2 + x1)\n",
    "u = S1 * (2 * x1**2 + 2 * x1 * x2) - S2 * (2 * x2**2 + 2 * x1 * x2)\n",
    "v = S1 * x2 * x1**2 - S2 * x1 * x2**2\n",
    "\n",
    "p = (3*m*u - n**2)/(3*m**2)\n",
    "q = (27*m**2 * v - 9*m*n*u + 2*n**3)/(27*m**3)\n",
    "\n",
    "delta = (q/2)**2 + (p/3)**3\n",
    "delta\n",
    "\n",
    "r = np.sqrt(-(p/3)**3)\n",
    "theta = 1 / 3 * np.arccos(-q / 2 / r)\n",
    "\n",
    "c1 = 2 * np.cbrt(r) * np.cos(theta)\n",
    "c2 = 2 * np.cbrt(r) * np.cos(theta + 2/3 * np.pi)\n",
    "c3 = 2 * np.cbrt(r) * np.cos(theta + 4/3 * np.pi)"
   ]
  },
  {
   "cell_type": "code",
   "execution_count": 126,
   "metadata": {
    "scrolled": true
   },
   "outputs": [
    {
     "data": {
      "text/plain": [
       "array([-2.14181342,  0.36997671, -0.22062555])"
      ]
     },
     "execution_count": 126,
     "metadata": {},
     "output_type": "execute_result"
    }
   ],
   "source": [
    "np.roots([m, n, u, v])"
   ]
  },
  {
   "cell_type": "code",
   "execution_count": 127,
   "metadata": {},
   "outputs": [],
   "source": [
    "c = np.roots([m, n, u, v])[1]\n",
    "k = (P-I1)*(x1 + c)**2 * c**2 / (x1 * (x1 + 2*c))\n",
    "b = P - k / c**2"
   ]
  },
  {
   "cell_type": "code",
   "execution_count": 128,
   "metadata": {},
   "outputs": [
    {
     "data": {
      "text/plain": [
       "0.36997671411244226"
      ]
     },
     "execution_count": 128,
     "metadata": {},
     "output_type": "execute_result"
    }
   ],
   "source": [
    "c"
   ]
  },
  {
   "cell_type": "code",
   "execution_count": 129,
   "metadata": {},
   "outputs": [
    {
     "data": {
      "text/plain": [
       "2.201030993475169"
      ]
     },
     "execution_count": 129,
     "metadata": {},
     "output_type": "execute_result"
    }
   ],
   "source": [
    "(P-I2)*(x2 + c) * c**2 / (x2 * (x2 + 2*c))"
   ]
  },
  {
   "cell_type": "code",
   "execution_count": 130,
   "metadata": {},
   "outputs": [
    {
     "data": {
      "text/plain": [
       "4.733943441236208"
      ]
     },
     "execution_count": 130,
     "metadata": {},
     "output_type": "execute_result"
    }
   ],
   "source": [
    "(P-I1)*(x1 + c) * c**2 / (x1 * (x1 + 2*c))"
   ]
  },
  {
   "cell_type": "code",
   "execution_count": 131,
   "metadata": {},
   "outputs": [
    {
     "data": {
      "text/plain": [
       "[<matplotlib.lines.Line2D at 0x2aee8ca0d48>]"
      ]
     },
     "execution_count": 131,
     "metadata": {},
     "output_type": "execute_result"
    },
    {
     "data": {
      "image/png": "[encoded data removed]",
      "text/plain": [
       "<Figure size 432x288 with 1 Axes>"
      ]
     },
     "metadata": {
      "needs_background": "light"
     },
     "output_type": "display_data"
    }
   ],
   "source": [
    "x = np.linspace(0, 5, 100)\n",
    "I = k / (x + c)**2 + b\n",
    "\n",
    "plt.plot(x, I)"
   ]
  },
  {
   "cell_type": "markdown",
   "metadata": {},
   "source": [
    "### Comment on Model 2.1\n",
    "\n",
    "Model 2.1 has the following characteristics:\n",
    "\n",
    "1. it passes the measured data points\n",
    "2. the rate of light intensity attenuation is propotional to the squared distance between light source and objects\n",
    "3. maximum light intensity is equal to the output wattage of the light source when distance is equal to 0\n",
    "\n",
    "Further thoughts:\n",
    "1. The model only considered two factors that influence the light intensity: distance and maximum output power of the light source. Coeffcients are calculated mainly based on existing measurements. The physical meaning of its coefficients are not explained.\n",
    "\n",
    "2. This model currently can only be used as a local model. As the distance becomes further, the intensity value is supposed to converge to 0. One reason may be the output wattage of the UV light source is not given (therefore, the input wattage of the light is considered as the output wattage. The actual value of output wattage should be lower than the input 460 watt)\n",
    "\n",
    "3. The equation for solving coefficient c is worth further investigating. If the equation can be proved to always have a positive root the model could be more reliable."
   ]
  },
  {
   "cell_type": "markdown",
   "metadata": {},
   "source": [
    "# UVC Irradiance"
   ]
  },
  {
   "cell_type": "code",
   "execution_count": 58,
   "metadata": {},
   "outputs": [
    {
     "name": "stdout",
     "output_type": "stream",
     "text": [
      "Get all points that are visible from given view point\n",
      "Visualize result\n"
     ]
    }
   ],
   "source": [
    "camera = [1, 1, 1]\n",
    "radius = 10\n",
    "\n",
    "mesh_cylinder = o3d.geometry.TriangleMesh.create_cylinder(radius=0.15, height=0.5)\n",
    "mesh_cylinder.compute_vertex_normals()\n",
    "mesh_cylinder.translate(camera)\n",
    "mesh_cylinder.paint_uniform_color([0.1, 0.9, 0.1])\n",
    "\n",
    "print(\"Get all points that are visible from given view point\")\n",
    "_, pt_map = pcd.hidden_point_removal(camera, radius)\n",
    "\n",
    "print(\"Visualize result\")\n",
    "pcd_cam = pcd.select_by_index(pt_map)\n",
    "o3d.visualization.draw_geometries([mesh, pcd_cam, mesh_cylinder])"
   ]
  },
  {
   "cell_type": "code",
   "execution_count": 59,
   "metadata": {},
   "outputs": [],
   "source": [
    "o3d.visualization.draw_geometries([mesh, pcd_cam, mesh_cylinder])"
   ]
  },
  {
   "cell_type": "code",
   "execution_count": 60,
   "metadata": {},
   "outputs": [],
   "source": [
    "Q_ = ureg.Quantity\n",
    "distance = Q_(np.linalg.norm(np.asarray(pcd_cam.points)-np.array(camera), axis=1), 'feet')"
   ]
  },
  {
   "cell_type": "code",
   "execution_count": 61,
   "metadata": {},
   "outputs": [],
   "source": [
    "I = k * (1 / np.square(distance.to('meter'))) + b\n",
    "i = I / (4 * np.pi * (distance.to('meter')**2))"
   ]
  },
  {
   "cell_type": "code",
   "execution_count": 63,
   "metadata": {},
   "outputs": [
    {
     "data": {
      "text/plain": [
       "73.13658702659441"
      ]
     },
     "execution_count": 63,
     "metadata": {},
     "output_type": "execute_result"
    }
   ],
   "source": [
    "i.magnitude.max()"
   ]
  },
  {
   "cell_type": "markdown",
   "metadata": {},
   "source": [
    "# Point Cloud Color"
   ]
  },
  {
   "cell_type": "code",
   "execution_count": 37,
   "metadata": {},
   "outputs": [
    {
     "name": "stdout",
     "output_type": "stream",
     "text": [
      "geometry::PointCloud with 100 points.\n"
     ]
    }
   ],
   "source": [
    "pc = o3d.geometry.PointCloud()\n",
    "\n",
    "point_set = np.array([(x, 0, 0) for x in np.linspace(0, 5, 100)])\n",
    "\n",
    "pc.points = o3d.utility.Vector3dVector(point_set)\n",
    "\n",
    "red = colour.Color('red')\n",
    "blue = colour.Color('blue')\n",
    "\n",
    "colors = [x.rgb for x in list(red.range_to(blue,100))]\n",
    "pc.colors = o3d.utility.Vector3dVector(colors)\n",
    "\n",
    "print(pc)\n",
    "o3d.visualization.draw_geometries([pc])"
   ]
  },
  {
   "cell_type": "code",
   "execution_count": null,
   "metadata": {},
   "outputs": [],
   "source": [
    "o3d.visualization.draw_geometries([])"
   ]
  }
 ],
 "metadata": {
  "kernelspec": {
   "display_name": "Python 3",
   "language": "python",
   "name": "python3"
  },
  "language_info": {
   "codemirror_mode": {
    "name": "ipython",
    "version": 3
   },
   "file_extension": ".py",
   "mimetype": "text/x-python",
   "name": "python",
   "nbconvert_exporter": "python",
   "pygments_lexer": "ipython3",
   "version": "3.7.6"
  },
  "latex_envs": {
   "LaTeX_envs_menu_present": true,
   "autoclose": true,
   "autocomplete": true,
   "bibliofile": "biblio.bib",
   "cite_by": "apalike",
   "current_citInitial": 1,
   "eqLabelWithNumbers": true,
   "eqNumInitial": 1,
   "hotkeys": {
    "equation": "Ctrl-E",
    "itemize": "Ctrl-I"
   },
   "labels_anchors": false,
   "latex_user_defs": false,
   "report_style_numbering": false,
   "user_envs_cfg": false
  },
  "varInspector": {
   "cols": {
    "lenName": 16,
    "lenType": 16,
    "lenVar": 40
   },
   "kernels_config": {
    "python": {
     "delete_cmd_postfix": "",
     "delete_cmd_prefix": "del ",
     "library": "var_list.py",
     "varRefreshCmd": "print(var_dic_list())"
    },
    "r": {
     "delete_cmd_postfix": ") ",
     "delete_cmd_prefix": "rm(",
     "library": "var_list.r",
     "varRefreshCmd": "cat(var_dic_list()) "
    }
   },
   "position": {
    "height": "299.716px",
    "left": "1439.28px",
    "right": "20px",
    "top": "120px",
    "width": "286.179px"
   },
   "types_to_exclude": [
    "module",
    "function",
    "builtin_function_or_method",
    "instance",
    "_Feature"
   ],
   "window_display": true
  }
 },
 "nbformat": 4,
 "nbformat_minor": 2
}
