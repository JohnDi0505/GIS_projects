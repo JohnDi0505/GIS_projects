{
 "cells": [
  {
   "cell_type": "code",
   "execution_count": 1,
   "metadata": {},
   "outputs": [],
   "source": [
    "import open3d as o3d\n",
    "import vtk\n",
    "import numpy as np"
   ]
  },
  {
   "cell_type": "code",
   "execution_count": 2,
   "metadata": {},
   "outputs": [
    {
     "data": {
      "text/plain": [
       "geometry::TriangleMesh with 224376 points and 74792 triangles."
      ]
     },
     "execution_count": 2,
     "metadata": {},
     "output_type": "execute_result"
    }
   ],
   "source": [
    "bus_o3d = o3d.io.read_triangle_mesh(\"bus.stl\")\n",
    "bus_o3d.compute_vertex_normals()\n",
    "bus_o3d"
   ]
  },
  {
   "cell_type": "code",
   "execution_count": 3,
   "metadata": {
    "scrolled": true
   },
   "outputs": [
    {
     "data": {
      "text/plain": [
       "array([ 2.56912069, 11.24986124,  2.89770126])"
      ]
     },
     "execution_count": 3,
     "metadata": {},
     "output_type": "execute_result"
    }
   ],
   "source": [
    "bus_o3d.get_max_bound() - bus_o3d.get_min_bound()"
   ]
  },
  {
   "cell_type": "code",
   "execution_count": 40,
   "metadata": {},
   "outputs": [],
   "source": [
    "bus_pcd = o3d.geometry.PointCloud()\n",
    "bus_pcd.points = o3d.utility.Vector3dVector(np.asarray(bus_o3d.vertices))\n",
    "o3d.visualization.draw_geometries([bus_pcd, bus_o3d], mesh_show_wireframe=True)"
   ]
  },
  {
   "cell_type": "markdown",
   "metadata": {},
   "source": [
    "# Subdivide Mesh"
   ]
  },
  {
   "cell_type": "code",
   "execution_count": 5,
   "metadata": {},
   "outputs": [
    {
     "data": {
      "text/plain": [
       "array([[-1.51806152, -0.67451322, -0.57115453],\n",
       "       [-1.51806152, -0.67451322, -0.2865701 ],\n",
       "       [-1.51806152, -0.72531313, -0.57115453],\n",
       "       ...,\n",
       "       [-2.04584932,  4.43263578,  0.4721885 ],\n",
       "       [-1.89237523,  4.42421436,  0.47975662],\n",
       "       [-2.04584932,  4.42074919,  0.48373345]])"
      ]
     },
     "execution_count": 5,
     "metadata": {},
     "output_type": "execute_result"
    }
   ],
   "source": [
    "np.asarray(bus_o3d.vertices)"
   ]
  },
  {
   "cell_type": "code",
   "execution_count": 6,
   "metadata": {},
   "outputs": [
    {
     "data": {
      "text/plain": [
       "array([[     0,      1,      2],\n",
       "       [     3,      4,      5],\n",
       "       [     6,      7,      8],\n",
       "       ...,\n",
       "       [224367, 224368, 224369],\n",
       "       [224370, 224371, 224372],\n",
       "       [224373, 224374, 224375]], dtype=int32)"
      ]
     },
     "execution_count": 6,
     "metadata": {},
     "output_type": "execute_result"
    }
   ],
   "source": [
    "np.asarray(bus_o3d.triangles)"
   ]
  },
  {
   "cell_type": "code",
   "execution_count": 7,
   "metadata": {},
   "outputs": [],
   "source": [
    "tri1 = o3d.geometry.TriangleMesh()\n",
    "tri2 = o3d.geometry.TriangleMesh()"
   ]
  },
  {
   "cell_type": "code",
   "execution_count": 8,
   "metadata": {},
   "outputs": [],
   "source": [
    "points = np.asarray([[1, 0, 0],\n",
    "                     [0, 0, 1],\n",
    "                     [-1, 0, 0],\n",
    "                     [0, 1, 0]])\n",
    "\n",
    "triangle1 = np.array([[0, 1, 2]], dtype=np.int32)\n",
    "triangle2 = np.array([[0, 2, 3]], dtype=np.int32)"
   ]
  },
  {
   "cell_type": "code",
   "execution_count": 9,
   "metadata": {},
   "outputs": [],
   "source": [
    "tri1.vertices = o3d.utility.Vector3dVector(points)\n",
    "tri1.triangles = o3d.utility.Vector3iVector(triangle1)\n",
    "tri2.vertices = o3d.utility.Vector3dVector(points)\n",
    "tri2.triangles = o3d.utility.Vector3iVector(triangle2)"
   ]
  },
  {
   "cell_type": "code",
   "execution_count": 10,
   "metadata": {
    "scrolled": true
   },
   "outputs": [
    {
     "data": {
      "text/plain": [
       "geometry::TriangleMesh with 4 points and 1 triangles."
      ]
     },
     "execution_count": 10,
     "metadata": {},
     "output_type": "execute_result"
    }
   ],
   "source": [
    "color1 = np.asarray([1.0, 0.706, 0.0], dtype=np.float64)\n",
    "color2 = np.asarray([1.0, 0.0, 0.0], dtype=np.float64)\n",
    "tri1.paint_uniform_color(color1)\n",
    "tri2.paint_uniform_color(color2)"
   ]
  },
  {
   "cell_type": "code",
   "execution_count": 12,
   "metadata": {},
   "outputs": [
    {
     "data": {
      "text/plain": [
       "array([[ 1.,  0.,  0.],\n",
       "       [ 0.,  0.,  1.],\n",
       "       [-1.,  0.,  0.],\n",
       "       [ 0.,  1.,  0.]])"
      ]
     },
     "execution_count": 12,
     "metadata": {},
     "output_type": "execute_result"
    }
   ],
   "source": [
    "np.asarray(tri1.vertices)"
   ]
  },
  {
   "cell_type": "code",
   "execution_count": 13,
   "metadata": {},
   "outputs": [
    {
     "data": {
      "text/plain": [
       "array([[ 1. ,  0. ,  0. ],\n",
       "       [ 0. ,  0. ,  1. ],\n",
       "       [-1. ,  0. ,  0. ],\n",
       "       [ 0. ,  1. ,  0. ],\n",
       "       [ 0.5,  0. ,  0.5],\n",
       "       [-0.5,  0. ,  0.5],\n",
       "       [ 0. ,  0. ,  0. ]])"
      ]
     },
     "execution_count": 13,
     "metadata": {},
     "output_type": "execute_result"
    }
   ],
   "source": [
    "tri1_subdiv = tri1.subdivide_midpoint(number_of_iterations=1)\n",
    "np.asarray(tri1_subdiv.vertices)"
   ]
  },
  {
   "cell_type": "code",
   "execution_count": 14,
   "metadata": {},
   "outputs": [
    {
     "data": {
      "text/plain": [
       "array([[0, 4, 6],\n",
       "       [4, 1, 5],\n",
       "       [5, 2, 6],\n",
       "       [4, 5, 6]], dtype=int32)"
      ]
     },
     "execution_count": 14,
     "metadata": {},
     "output_type": "execute_result"
    }
   ],
   "source": [
    "np.asarray(tri1_subdiv.triangles)"
   ]
  },
  {
   "cell_type": "code",
   "execution_count": 15,
   "metadata": {},
   "outputs": [
    {
     "ename": "NameError",
     "evalue": "name 'tri' is not defined",
     "output_type": "error",
     "traceback": [
      "\u001b[1;31m---------------------------------------------------------------------------\u001b[0m",
      "\u001b[1;31mNameError\u001b[0m                                 Traceback (most recent call last)",
      "\u001b[1;32m<ipython-input-15-3c0384bb0ea6>\u001b[0m in \u001b[0;36m<module>\u001b[1;34m\u001b[0m\n\u001b[1;32m----> 1\u001b[1;33m \u001b[0mtri_mid\u001b[0m \u001b[1;33m=\u001b[0m \u001b[0mtri\u001b[0m\u001b[1;33m.\u001b[0m\u001b[0msubdivide_midpoint\u001b[0m\u001b[1;33m(\u001b[0m\u001b[0mnumber_of_iterations\u001b[0m\u001b[1;33m=\u001b[0m\u001b[1;36m1\u001b[0m\u001b[1;33m)\u001b[0m\u001b[1;33m\u001b[0m\u001b[1;33m\u001b[0m\u001b[0m\n\u001b[0m\u001b[0;32m      2\u001b[0m \u001b[0mtri_loop\u001b[0m \u001b[1;33m=\u001b[0m \u001b[0mtri\u001b[0m\u001b[1;33m.\u001b[0m\u001b[0msubdivide_loop\u001b[0m\u001b[1;33m(\u001b[0m\u001b[0mnumber_of_iterations\u001b[0m\u001b[1;33m=\u001b[0m\u001b[1;36m1\u001b[0m\u001b[1;33m)\u001b[0m\u001b[1;33m\u001b[0m\u001b[1;33m\u001b[0m\u001b[0m\n",
      "\u001b[1;31mNameError\u001b[0m: name 'tri' is not defined"
     ]
    }
   ],
   "source": [
    "tri_mid = tri.subdivide_midpoint(number_of_iterations=1)\n",
    "tri_loop = tri.subdivide_loop(number_of_iterations=1)"
   ]
  },
  {
   "cell_type": "code",
   "execution_count": 16,
   "metadata": {},
   "outputs": [],
   "source": [
    "o3d.visualization.draw_geometries([tri1, tri2], mesh_show_wireframe=True)"
   ]
  },
  {
   "cell_type": "markdown",
   "metadata": {},
   "source": [
    "# Get Vertices of Mesh Triangles"
   ]
  },
  {
   "cell_type": "code",
   "execution_count": 59,
   "metadata": {},
   "outputs": [
    {
     "data": {
      "text/plain": [
       "array([[     0,      1,      2],\n",
       "       [     3,      4,      5],\n",
       "       [     6,      7,      8],\n",
       "       ...,\n",
       "       [224367, 224368, 224369],\n",
       "       [224370, 224371, 224372],\n",
       "       [224373, 224374, 224375]], dtype=int32)"
      ]
     },
     "execution_count": 59,
     "metadata": {},
     "output_type": "execute_result"
    }
   ],
   "source": [
    "triangles = np.asarray(bus_o3d.triangles)\n",
    "triangles"
   ]
  },
  {
   "cell_type": "code",
   "execution_count": 60,
   "metadata": {},
   "outputs": [
    {
     "data": {
      "text/plain": [
       "array([[-1.51806152, -0.67451322, -0.57115453],\n",
       "       [-1.51806152, -0.67451322, -0.2865701 ],\n",
       "       [-1.51806152, -0.72531313, -0.57115453],\n",
       "       ...,\n",
       "       [-2.04584932,  4.43263578,  0.4721885 ],\n",
       "       [-1.89237523,  4.42421436,  0.47975662],\n",
       "       [-2.04584932,  4.42074919,  0.48373345]])"
      ]
     },
     "execution_count": 60,
     "metadata": {},
     "output_type": "execute_result"
    }
   ],
   "source": [
    "vertices = np.asarray(bus_o3d.vertices)\n",
    "vertices"
   ]
  },
  {
   "cell_type": "code",
   "execution_count": 61,
   "metadata": {},
   "outputs": [
    {
     "data": {
      "text/plain": [
       "array([[[-1.51806152, -0.67451322, -0.57115453],\n",
       "        [-1.51806152, -0.67451322, -0.2865701 ],\n",
       "        [-1.51806152, -0.72531313, -0.57115453]],\n",
       "\n",
       "       [[-1.51806152, -0.52855664, -0.62503606],\n",
       "        [-1.51806152, -0.58243817, -0.57115453],\n",
       "        [-1.51806152, -0.67451322, -0.57115453]],\n",
       "\n",
       "       [[-1.51806152, -0.67451322, -0.57115453],\n",
       "        [-1.51806152, -0.72531313, -0.57115453],\n",
       "        [-1.51806152, -0.52855664, -0.62503606]],\n",
       "\n",
       "       [[-1.51806152, -0.72531313, -0.2865701 ],\n",
       "        [-1.51806152, -0.72531313, -0.57115453],\n",
       "        [-1.51806152, -0.67451322, -0.2865701 ]],\n",
       "\n",
       "       [[-1.51806152, -0.82056314, -0.57115453],\n",
       "        [-1.51806152, -0.87444472, -0.62503606],\n",
       "        [-1.51806152, -0.72531313, -0.57115453]]])"
      ]
     },
     "execution_count": 61,
     "metadata": {},
     "output_type": "execute_result"
    }
   ],
   "source": [
    "tri = np.asarray([[list(vertices[p]) for p in triangle] for triangle in triangles])\n",
    "tri[:5]"
   ]
  },
  {
   "cell_type": "code",
   "execution_count": 83,
   "metadata": {
    "scrolled": true
   },
   "outputs": [
    {
     "data": {
      "text/plain": [
       "array([[-1.51806152, -0.69144652, -0.47629306],\n",
       "       [-1.51806152, -0.59516935, -0.58911504],\n",
       "       [-1.51806152, -0.64279433, -0.58911504],\n",
       "       ...,\n",
       "       [-1.69662543,  4.42957417,  0.47498579],\n",
       "       [-1.80720973,  4.42120425,  0.48361361],\n",
       "       [-1.99469129,  4.42586644,  0.47855952]])"
      ]
     },
     "execution_count": 83,
     "metadata": {},
     "output_type": "execute_result"
    }
   ],
   "source": [
    "tri_centroid = np.array([np.sum(tri[:, :, 0], axis=1)/3, np.sum(tri[:, :, 1], axis=1)/3, np.sum(tri[:, :, 2], axis=1)/3]).T\n",
    "tri_centroid"
   ]
  },
  {
   "cell_type": "code",
   "execution_count": 93,
   "metadata": {},
   "outputs": [],
   "source": [
    "pcd_tri_centroid = o3d.geometry.PointCloud()\n",
    "pcd_tri_centroid.points = o3d.utility.Vector3dVector(tri_centroid)"
   ]
  },
  {
   "cell_type": "code",
   "execution_count": 85,
   "metadata": {},
   "outputs": [],
   "source": [
    "o3d.visualization.draw_geometries([pcd_tri_centroid, bus_o3d], mesh_show_wireframe=True)"
   ]
  },
  {
   "cell_type": "markdown",
   "metadata": {},
   "source": [
    "# Set External View Points"
   ]
  },
  {
   "cell_type": "code",
   "execution_count": 86,
   "metadata": {},
   "outputs": [
    {
     "data": {
      "text/plain": [
       "array([[-1.51806152, -0.69144652, -0.47629306],\n",
       "       [-1.51806152, -0.59516935, -0.58911504],\n",
       "       [-1.51806152, -0.64279433, -0.58911504],\n",
       "       ...,\n",
       "       [-1.69662543,  4.42957417,  0.47498579],\n",
       "       [-1.80720973,  4.42120425,  0.48361361],\n",
       "       [-1.99469129,  4.42586644,  0.47855952]])"
      ]
     },
     "execution_count": 86,
     "metadata": {},
     "output_type": "execute_result"
    }
   ],
   "source": [
    "np.asarray(pcd_tri_centroid.points)"
   ]
  },
  {
   "cell_type": "code",
   "execution_count": 69,
   "metadata": {},
   "outputs": [
    {
     "data": {
      "text/plain": [
       "array([0.15117578, 5.98305464, 1.40197897])"
      ]
     },
     "execution_count": 69,
     "metadata": {},
     "output_type": "execute_result"
    }
   ],
   "source": [
    "max_bound = bus_o3d.get_max_bound()\n",
    "max_bound"
   ]
  },
  {
   "cell_type": "code",
   "execution_count": 70,
   "metadata": {},
   "outputs": [
    {
     "data": {
      "text/plain": [
       "array([-2.41794491, -5.2668066 , -1.49572229])"
      ]
     },
     "execution_count": 70,
     "metadata": {},
     "output_type": "execute_result"
    }
   ],
   "source": [
    "min_bound = bus_o3d.get_min_bound()\n",
    "min_bound"
   ]
  },
  {
   "cell_type": "code",
   "execution_count": 71,
   "metadata": {},
   "outputs": [
    {
     "data": {
      "text/plain": [
       "(-1.1333845630288124, 0.3581240177154541, 11.401978969573975)"
      ]
     },
     "execution_count": 71,
     "metadata": {},
     "output_type": "execute_result"
    }
   ],
   "source": [
    "top_view = ((max_bound[0]+min_bound[0])/2, (max_bound[1]+min_bound[1])/2, max_bound[2] + 10)\n",
    "top_view"
   ]
  },
  {
   "cell_type": "code",
   "execution_count": 94,
   "metadata": {},
   "outputs": [
    {
     "data": {
      "text/plain": [
       "array([[-1.13338456,  0.35812402, 11.40197897]])"
      ]
     },
     "execution_count": 94,
     "metadata": {},
     "output_type": "execute_result"
    }
   ],
   "source": [
    "top_view = np.array([top_view])\n",
    "top_view"
   ]
  },
  {
   "cell_type": "code",
   "execution_count": 95,
   "metadata": {},
   "outputs": [],
   "source": [
    "pcd_top_view = o3d.geometry.PointCloud()\n",
    "pcd_top_view.points = o3d.utility.Vector3dVector(top_view)\n",
    "o3d.visualization.draw_geometries([pcd_top_view, bus_o3d], mesh_show_wireframe=True)"
   ]
  },
  {
   "cell_type": "markdown",
   "metadata": {},
   "source": [
    "# Load Mesh Using VTK"
   ]
  },
  {
   "cell_type": "code",
   "execution_count": 102,
   "metadata": {},
   "outputs": [],
   "source": [
    "# load mesh into vtk\n",
    "\n",
    "def loadSTL(filenameSTL):\n",
    "    readerSTL = vtk.vtkSTLReader()\n",
    "    readerSTL.SetFileName(filenameSTL)\n",
    "    # 'update' the reader i.e. read the .stl file\n",
    "    readerSTL.Update()\n",
    "\n",
    "    polydata = readerSTL.GetOutput()\n",
    "\n",
    "    # If there are no points in 'vtkPolyData' something went wrong\n",
    "    if polydata.GetNumberOfPoints() == 0:\n",
    "        raise ValueError(\n",
    "            \"No point data could be loaded from '\" + filenameSTL)\n",
    "        return None\n",
    "    \n",
    "    return polydata\n",
    "\n",
    "def vtk_show(renderer, width, height):\n",
    "    render_window = vtk.vtkRenderWindow()\n",
    "    render_window.SetWindowName(\"Simple VTK scene\")\n",
    "    render_window.SetSize(width, height)\n",
    "    render_window.AddRenderer(renderer)\n",
    "\n",
    "    # Create an interactor\n",
    "    interactor = vtk.vtkRenderWindowInteractor()\n",
    "    interactor.SetRenderWindow(render_window)\n",
    "    # Initialize the interactor and start the\n",
    "    # rendering loop\n",
    "    interactor.Initialize()\n",
    "    render_window.Render()\n",
    "    interactor.Start()\n",
    "\n",
    "def Addpoint(p, color):\n",
    "    VtkSourceSphere = vtk.vtkSphereSource()\n",
    "    VtkSourceSphere.SetCenter(p)\n",
    "    VtkSourceSphere.SetRadius(0.1)\n",
    "    VtkSourceSphere.SetPhiResolution(360)\n",
    "    VtkSourceSphere.SetThetaResolution(360)\n",
    "    \n",
    "    VtkMapperSphere = vtk.vtkPolyDataMapper()\n",
    "    VtkMapperSphere.SetInputConnection(VtkSourceSphere.GetOutputPort())\n",
    "\n",
    "    VtkActorSphere = vtk.vtkActor()\n",
    "    VtkActorSphere.SetMapper(VtkMapperSphere)\n",
    "    VtkActorSphere.GetProperty().SetColor(color)\n",
    "    \n",
    "    renderer.AddActor(VtkActorSphere)\n",
    "    \n",
    "    return(p)"
   ]
  },
  {
   "cell_type": "code",
   "execution_count": 103,
   "metadata": {},
   "outputs": [],
   "source": [
    "bus_vtk = loadSTL(\"bus.stl\")\n",
    "mapper = vtk.vtkPolyDataMapper()\n",
    "mapper.SetInputData(bus_vtk)\n",
    "\n",
    "actor = vtk.vtkActor()\n",
    "actor.SetMapper(mapper)\n",
    "actor.GetProperty().SetOpacity(0.25)\n",
    "\n",
    "renderer = vtk.vtkRenderer()\n",
    "renderer.SetBackground(1.0, 1.0, 1.0)\n",
    "renderer.AddActor(actor)\n",
    "\n",
    "p1 = Addpoint((-1.1333845630288124, 0.3581240177154541, 11.401978969573975), (1, 0, 0))\n",
    "\n",
    "vtk_show(renderer, 800, 600)"
   ]
  },
  {
   "cell_type": "markdown",
   "metadata": {},
   "source": [
    "# Seperate Internal & External Triangles Using Raycasting"
   ]
  },
  {
   "cell_type": "code",
   "execution_count": 105,
   "metadata": {},
   "outputs": [],
   "source": [
    "obbTree = vtk.vtkOBBTree()\n",
    "obbTree.SetDataSet(bus_vtk)\n",
    "obbTree.BuildLocator()\n",
    "\n",
    "def raycast(source, target):\n",
    "    pointsVTKintersection = vtk.vtkPoints()\n",
    "    code = obbTree.IntersectWithLine(source, target, pointsVTKintersection, None)\n",
    "\n",
    "    pointsVTKIntersectionData = pointsVTKintersection.GetData()\n",
    "    noPointsVTKIntersection = pointsVTKIntersectionData.GetNumberOfTuples()\n",
    "    pointsIntersection = []\n",
    "    for idx in range(noPointsVTKIntersection):\n",
    "        _tup = pointsVTKIntersectionData.GetTuple3(idx)\n",
    "        pointsIntersection.append(_tup)\n",
    "        \n",
    "    return(code, pointsIntersection)"
   ]
  },
  {
   "cell_type": "code",
   "execution_count": 106,
   "metadata": {},
   "outputs": [
    {
     "data": {
      "text/plain": [
       "array([[-1.51806152, -0.69144652, -0.47629306],\n",
       "       [-1.51806152, -0.59516935, -0.58911504],\n",
       "       [-1.51806152, -0.64279433, -0.58911504],\n",
       "       ...,\n",
       "       [-1.69662543,  4.42957417,  0.47498579],\n",
       "       [-1.80720973,  4.42120425,  0.48361361],\n",
       "       [-1.99469129,  4.42586644,  0.47855952]])"
      ]
     },
     "execution_count": 106,
     "metadata": {},
     "output_type": "execute_result"
    }
   ],
   "source": [
    "tri_centroid"
   ]
  },
  {
   "cell_type": "code",
   "execution_count": 116,
   "metadata": {},
   "outputs": [
    {
     "data": {
      "text/plain": [
       "array([[-1.13338456,  0.35812402, 11.40197897]])"
      ]
     },
     "execution_count": 116,
     "metadata": {},
     "output_type": "execute_result"
    }
   ],
   "source": [
    "top_view"
   ]
  },
  {
   "cell_type": "code",
   "execution_count": 110,
   "metadata": {},
   "outputs": [
    {
     "data": {
      "text/plain": [
       "array([-1.51806152, -0.69144652, -0.47629306])"
      ]
     },
     "execution_count": 110,
     "metadata": {},
     "output_type": "execute_result"
    }
   ],
   "source": [
    "tri_centroid[0]"
   ]
  },
  {
   "cell_type": "code",
   "execution_count": 117,
   "metadata": {},
   "outputs": [
    {
     "data": {
      "text/plain": [
       "(1,\n",
       " [(-1.4574785232543945, -0.5261492133140564, 1.3944212198257446),\n",
       "  (-1.4582796096801758, -0.5283346176147461, 1.3696882724761963),\n",
       "  (-1.5072999000549316, -0.6620839834213257, -0.1439894437789917),\n",
       "  (-1.512351632118225, -0.6758675575256348, -0.29998141527175903),\n",
       "  (-1.5125902891159058, -0.6765184998512268, -0.30734845995903015)])"
      ]
     },
     "execution_count": 117,
     "metadata": {},
     "output_type": "execute_result"
    }
   ],
   "source": [
    "raycast(top_view[0], tri_centroid[0])"
   ]
  },
  {
   "cell_type": "code",
   "execution_count": 120,
   "metadata": {},
   "outputs": [],
   "source": [
    "codes = []\n",
    "visible_pts = []\n",
    "\n",
    "for pt in tri_centroid:\n",
    "    \n",
    "    temp = raycast(top_view[0], pt)\n",
    "    \n",
    "    codes.append(temp[0])\n",
    "    \n",
    "    if len(temp[1]) != 0:\n",
    "        pass\n",
    "    else:\n",
    "        visible_pts.append(pt)\n",
    "        \n",
    "codes = np.asarray(codes)\n",
    "visible_pts = np.asarray(visible_pts)"
   ]
  },
  {
   "cell_type": "code",
   "execution_count": 121,
   "metadata": {},
   "outputs": [],
   "source": [
    "pcd_visible = o3d.geometry.PointCloud()\n",
    "pcd_visible.points = o3d.utility.Vector3dVector(visible_pts)\n",
    "\n",
    "o3d.visualization.draw_geometries([pcd_visible, bus_o3d])"
   ]
  },
  {
   "cell_type": "markdown",
   "metadata": {},
   "source": [
    "# Compute Area of Mesh Triangles"
   ]
  },
  {
   "cell_type": "code",
   "execution_count": 20,
   "metadata": {},
   "outputs": [
    {
     "data": {
      "text/plain": [
       "array([[ 0.        ,  0.        , -0.28458443],\n",
       "       [ 0.        ,  0.05388153, -0.05388153],\n",
       "       [ 0.        ,  0.05079991,  0.        ],\n",
       "       ...,\n",
       "       [ 0.16539586,  0.00918484, -0.00839186],\n",
       "       [ 0.08913946, -0.00826693,  0.01074722],\n",
       "       [-0.15347409,  0.00842142, -0.00756812]])"
      ]
     },
     "execution_count": 20,
     "metadata": {},
     "output_type": "execute_result"
    }
   ],
   "source": [
    "tri[:, 0, :] - tri[:, 1, :]"
   ]
  },
  {
   "cell_type": "code",
   "execution_count": 21,
   "metadata": {},
   "outputs": [
    {
     "data": {
      "text/plain": [
       "array([[ 0.        ,  0.        , -1.        ],\n",
       "       [ 0.        ,  0.70710678, -0.70710678],\n",
       "       [ 0.        ,  1.        ,  0.        ],\n",
       "       ...,\n",
       "       [ 0.99718285,  0.05537601, -0.05059508],\n",
       "       [ 0.98862834, -0.09168686,  0.11919536],\n",
       "       [-0.99728975,  0.05472322, -0.04917839]])"
      ]
     },
     "execution_count": 21,
     "metadata": {},
     "output_type": "execute_result"
    }
   ],
   "source": [
    "((tri[:, 0, :] - tri[:, 1, :]) / np.linalg.norm(tri[:, 0, :] - tri[:, 1, :], axis=1)[:, None])"
   ]
  },
  {
   "cell_type": "code",
   "execution_count": 23,
   "metadata": {},
   "outputs": [
    {
     "data": {
      "text/plain": [
       "14"
      ]
     },
     "execution_count": 23,
     "metadata": {},
     "output_type": "execute_result"
    }
   ],
   "source": [
    "np.dot([1, 2, 3], [1, 2, 3])"
   ]
  },
  {
   "cell_type": "code",
   "execution_count": 24,
   "metadata": {},
   "outputs": [
    {
     "data": {
      "text/plain": [
       "26"
      ]
     },
     "execution_count": 24,
     "metadata": {},
     "output_type": "execute_result"
    }
   ],
   "source": [
    "np.dot([3, 4, 5], [1, 2, 3])"
   ]
  },
  {
   "cell_type": "code",
   "execution_count": 25,
   "metadata": {},
   "outputs": [
    {
     "data": {
      "text/plain": [
       "array([14, 26])"
      ]
     },
     "execution_count": 25,
     "metadata": {},
     "output_type": "execute_result"
    }
   ],
   "source": [
    "np.einsum('ij,ij->i', [[1, 2, 3],[3, 4, 5]], [[1, 2, 3], [1, 2, 3]])"
   ]
  },
  {
   "cell_type": "code",
   "execution_count": 26,
   "metadata": {},
   "outputs": [
    {
     "data": {
      "text/plain": [
       "array([1.57079633, 0.43175611, 2.7879506 , ..., 0.07507961, 2.83089987,\n",
       "       1.49721104])"
      ]
     },
     "execution_count": 26,
     "metadata": {},
     "output_type": "execute_result"
    }
   ],
   "source": [
    "vector_1 = tri[:, 0, :] - tri[:, 1, :]\n",
    "vector_2 = tri[:, 0, :] - tri[:, 2, :]\n",
    "\n",
    "unit_vector_1 = vector_1 / np.linalg.norm(vector_1, axis=1)[:, None]\n",
    "unit_vector_2 = vector_2 / np.linalg.norm(vector_2, axis=1)[:, None]\n",
    "dot_product = np.einsum('ij,ij->i',unit_vector_1, unit_vector_2)\n",
    "angle = np.arccos(dot_product)\n",
    "\n",
    "angle"
   ]
  },
  {
   "cell_type": "markdown",
   "metadata": {},
   "source": [
    "# Adaptive Mesh Triangles Subdivision"
   ]
  },
  {
   "cell_type": "code",
   "execution_count": null,
   "metadata": {},
   "outputs": [],
   "source": []
  }
 ],
 "metadata": {
  "kernelspec": {
   "display_name": "Python 3",
   "language": "python",
   "name": "python3"
  },
  "language_info": {
   "codemirror_mode": {
    "name": "ipython",
    "version": 3
   },
   "file_extension": ".py",
   "mimetype": "text/x-python",
   "name": "python",
   "nbconvert_exporter": "python",
   "pygments_lexer": "ipython3",
   "version": "3.7.6"
  },
  "latex_envs": {
   "LaTeX_envs_menu_present": true,
   "autoclose": true,
   "autocomplete": true,
   "bibliofile": "biblio.bib",
   "cite_by": "apalike",
   "current_citInitial": 1,
   "eqLabelWithNumbers": true,
   "eqNumInitial": 1,
   "hotkeys": {
    "equation": "Ctrl-E",
    "itemize": "Ctrl-I"
   },
   "labels_anchors": false,
   "latex_user_defs": false,
   "report_style_numbering": false,
   "user_envs_cfg": false
  },
  "varInspector": {
   "cols": {
    "lenName": 16,
    "lenType": 16,
    "lenVar": 40
   },
   "kernels_config": {
    "python": {
     "delete_cmd_postfix": "",
     "delete_cmd_prefix": "del ",
     "library": "var_list.py",
     "varRefreshCmd": "print(var_dic_list())"
    },
    "r": {
     "delete_cmd_postfix": ") ",
     "delete_cmd_prefix": "rm(",
     "library": "var_list.r",
     "varRefreshCmd": "cat(var_dic_list()) "
    }
   },
   "types_to_exclude": [
    "module",
    "function",
    "builtin_function_or_method",
    "instance",
    "_Feature"
   ],
   "window_display": false
  }
 },
 "nbformat": 4,
 "nbformat_minor": 2
}
