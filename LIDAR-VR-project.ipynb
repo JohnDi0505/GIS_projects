{
 "cells": [
  {
   "cell_type": "code",
   "execution_count": 1,
   "metadata": {
    "ExecuteTime": {
     "end_time": "2019-02-22T20:30:29.711903Z",
     "start_time": "2019-02-22T20:30:29.529450Z"
    }
   },
   "outputs": [],
   "source": [
    "import numpy as np\n",
    "from laspy import *\n",
    "from laspy.file import File"
   ]
  },
  {
   "cell_type": "markdown",
   "metadata": {},
   "source": [
    "# load LIDAR point cloud (.las)"
   ]
  },
  {
   "cell_type": "code",
   "execution_count": 2,
   "metadata": {
    "ExecuteTime": {
     "end_time": "2019-02-22T20:30:30.992863Z",
     "start_time": "2019-02-22T20:30:30.967942Z"
    }
   },
   "outputs": [],
   "source": [
    "in_file = File(\"points.las\", mode='r')"
   ]
  },
  {
   "cell_type": "markdown",
   "metadata": {},
   "source": [
    "# combine X, Y, Z arrays & transpose outcome to a (n, 3) matrix"
   ]
  },
  {
   "cell_type": "code",
   "execution_count": 3,
   "metadata": {
    "ExecuteTime": {
     "end_time": "2019-02-22T20:30:32.792823Z",
     "start_time": "2019-02-22T20:30:32.255641Z"
    }
   },
   "outputs": [
    {
     "data": {
      "text/plain": [
       "(5960717, 3)"
      ]
     },
     "execution_count": 3,
     "metadata": {},
     "output_type": "execute_result"
    }
   ],
   "source": [
    "point_cloud_nparr = np.array([in_file.X, in_file.Y, in_file.Z])\n",
    "point_cloud_nparr = point_cloud_nparr.T\n",
    "point_cloud_nparr.shape"
   ]
  },
  {
   "cell_type": "code",
   "execution_count": 81,
   "metadata": {
    "ExecuteTime": {
     "end_time": "2019-02-21T20:06:55.935280Z",
     "start_time": "2019-02-21T20:06:55.924762Z"
    }
   },
   "outputs": [
    {
     "data": {
      "text/plain": [
       "array([[ 44199914, 379210442,    205331],\n",
       "       [ 44199658, 379210390,    204755],\n",
       "       [ 44199504, 379210449,    204948],\n",
       "       ...,\n",
       "       [ 44167604, 379154071,    180946],\n",
       "       [ 44167787, 379154300,    180998],\n",
       "       [ 44167734, 379154302,    180977]])"
      ]
     },
     "execution_count": 81,
     "metadata": {},
     "output_type": "execute_result"
    }
   ],
   "source": [
    "point_cloud_nparr"
   ]
  },
  {
   "cell_type": "markdown",
   "metadata": {},
   "source": [
    "#  normalize X, Y, Z values using sklearn.preprocessing library"
   ]
  },
  {
   "cell_type": "code",
   "execution_count": 4,
   "metadata": {
    "ExecuteTime": {
     "end_time": "2019-02-22T20:32:27.404251Z",
     "start_time": "2019-02-22T20:32:27.399264Z"
    }
   },
   "outputs": [],
   "source": [
    "from sklearn.preprocessing import scale\n",
    "point_cloud_nparr = scale( point_cloud_nparr, axis=0, with_mean=True, with_std=True, copy=True )\n",
    "point_cloud_nparr[:10,:]"
   ]
  },
  {
   "cell_type": "markdown",
   "metadata": {},
   "source": [
    "# 3D presentation of point clouds in pptk.viewer"
   ]
  },
  {
   "cell_type": "code",
   "execution_count": 8,
   "metadata": {
    "ExecuteTime": {
     "end_time": "2019-02-22T20:34:26.708042Z",
     "start_time": "2019-02-22T20:34:26.551407Z"
    }
   },
   "outputs": [],
   "source": [
    "import pptk\n",
    "v = pptk.viewer(point_cloud_nparr)\n",
    "v.set(point_size=0.01)"
   ]
  },
  {
   "cell_type": "markdown",
   "metadata": {},
   "source": [
    "# produce .ply (3D object) file using plyfile library"
   ]
  },
  {
   "cell_type": "code",
   "execution_count": 10,
   "metadata": {
    "ExecuteTime": {
     "end_time": "2019-02-22T20:36:43.808533Z",
     "start_time": "2019-02-22T20:36:43.792576Z"
    }
   },
   "outputs": [],
   "source": [
    "from plyfile import PlyData, PlyElement"
   ]
  },
  {
   "cell_type": "markdown",
   "metadata": {},
   "source": [
    "# conbine X, Y, Z values for each point & produce a (n, ) array"
   ]
  },
  {
   "cell_type": "code",
   "execution_count": 11,
   "metadata": {
    "ExecuteTime": {
     "end_time": "2019-02-22T20:36:46.028135Z",
     "start_time": "2019-02-22T20:36:45.567334Z"
    }
   },
   "outputs": [
    {
     "data": {
      "text/plain": [
       "(5960717, 3)"
      ]
     },
     "execution_count": 11,
     "metadata": {},
     "output_type": "execute_result"
    }
   ],
   "source": [
    "vertex = np.array(point_cloud_nparr, dtype=[('x', 'f4'), ('y', 'f4'), ('z', 'f4')])\n",
    "vertex.shape"
   ]
  },
  {
   "cell_type": "code",
   "execution_count": 12,
   "metadata": {
    "ExecuteTime": {
     "end_time": "2019-02-22T20:36:59.908610Z",
     "start_time": "2019-02-22T20:36:52.559236Z"
    },
    "scrolled": true
   },
   "outputs": [
    {
     "data": {
      "text/plain": [
       "(5960717,)"
      ]
     },
     "execution_count": 12,
     "metadata": {},
     "output_type": "execute_result"
    }
   ],
   "source": [
    "point_cloud_lst = list(map(tuple, point_cloud_nparr))\n",
    "vertex = np.array(point_cloud_lst,\n",
    "                  dtype=[('x', 'f4'), ('y', 'f4'),('z', 'f4')])\n",
    "vertex.shape"
   ]
  },
  {
   "cell_type": "markdown",
   "metadata": {},
   "source": [
    "# compile objects for 'vertex' & 'face' respectively & output .ply file"
   ]
  },
  {
   "cell_type": "code",
   "execution_count": 16,
   "metadata": {
    "ExecuteTime": {
     "end_time": "2019-02-22T20:52:47.197247Z",
     "start_time": "2019-02-22T20:52:47.191263Z"
    }
   },
   "outputs": [
    {
     "data": {
      "text/plain": [
       "PlyElement('vertex', (PlyProperty('x', 'float'), PlyProperty('y', 'float'), PlyProperty('z', 'float')), count=5960717, comments=['vertices'])"
      ]
     },
     "execution_count": 16,
     "metadata": {},
     "output_type": "execute_result"
    }
   ],
   "source": [
    "el = PlyElement.describe(vertex, 'vertex', comments=['vertices'])\n",
    "el"
   ]
  },
  {
   "cell_type": "code",
   "execution_count": 17,
   "metadata": {
    "ExecuteTime": {
     "end_time": "2019-02-22T20:54:47.964921Z",
     "start_time": "2019-02-22T20:54:47.711478Z"
    }
   },
   "outputs": [],
   "source": [
    "# argument \"text = True\" will make output .ply file readable but significantly lower the performance of execution  \n",
    "PlyData([el], byte_order='=').write('pc_binary.ply')"
   ]
  },
  {
   "cell_type": "code",
   "execution_count": null,
   "metadata": {},
   "outputs": [],
   "source": []
  }
 ],
 "metadata": {
  "kernelspec": {
   "display_name": "Python 3",
   "language": "python",
   "name": "python3"
  },
  "language_info": {
   "codemirror_mode": {
    "name": "ipython",
    "version": 3
   },
   "file_extension": ".py",
   "mimetype": "text/x-python",
   "name": "python",
   "nbconvert_exporter": "python",
   "pygments_lexer": "ipython3",
   "version": "3.6.7"
  },
  "latex_envs": {
   "LaTeX_envs_menu_present": true,
   "autoclose": false,
   "autocomplete": true,
   "bibliofile": "biblio.bib",
   "cite_by": "apalike",
   "current_citInitial": 1,
   "eqLabelWithNumbers": true,
   "eqNumInitial": 1,
   "hotkeys": {
    "equation": "Ctrl-E",
    "itemize": "Ctrl-I"
   },
   "labels_anchors": false,
   "latex_user_defs": false,
   "report_style_numbering": false,
   "user_envs_cfg": false
  },
  "toc": {
   "base_numbering": 1,
   "nav_menu": {},
   "number_sections": true,
   "sideBar": true,
   "skip_h1_title": false,
   "title_cell": "Table of Contents",
   "title_sidebar": "Contents",
   "toc_cell": false,
   "toc_position": {},
   "toc_section_display": true,
   "toc_window_display": false
  },
  "varInspector": {
   "cols": {
    "lenName": 16,
    "lenType": 16,
    "lenVar": 40
   },
   "kernels_config": {
    "python": {
     "delete_cmd_postfix": "",
     "delete_cmd_prefix": "del ",
     "library": "var_list.py",
     "varRefreshCmd": "print(var_dic_list())"
    },
    "r": {
     "delete_cmd_postfix": ") ",
     "delete_cmd_prefix": "rm(",
     "library": "var_list.r",
     "varRefreshCmd": "cat(var_dic_list()) "
    }
   },
   "position": {
    "height": "374.716px",
    "left": "1433.44px",
    "right": "20px",
    "top": "134.991px",
    "width": "297.145px"
   },
   "types_to_exclude": [
    "module",
    "function",
    "builtin_function_or_method",
    "instance",
    "_Feature"
   ],
   "window_display": true
  }
 },
 "nbformat": 4,
 "nbformat_minor": 2
}
