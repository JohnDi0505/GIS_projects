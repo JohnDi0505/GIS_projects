{
 "cells": [
  {
   "cell_type": "code",
   "execution_count": 1,
   "metadata": {
    "ExecuteTime": {
     "end_time": "2019-02-22T21:09:49.488373Z",
     "start_time": "2019-02-22T21:09:49.398614Z"
    }
   },
   "outputs": [],
   "source": [
    "import numpy as np\n",
    "from laspy import *\n",
    "from laspy.file import File"
   ]
  },
  {
   "cell_type": "markdown",
   "metadata": {},
   "source": [
    "# load LIDAR point cloud (.las)"
   ]
  },
  {
   "cell_type": "code",
   "execution_count": 2,
   "metadata": {
    "ExecuteTime": {
     "end_time": "2019-02-22T21:09:49.499345Z",
     "start_time": "2019-02-22T21:09:49.489384Z"
    }
   },
   "outputs": [],
   "source": [
    "in_file = File(\"points.las\", mode='r')"
   ]
  },
  {
   "cell_type": "markdown",
   "metadata": {},
   "source": [
    "# combine X, Y, Z arrays & transpose outcome to a (n, 3) matrix"
   ]
  },
  {
   "cell_type": "code",
   "execution_count": 3,
   "metadata": {
    "ExecuteTime": {
     "end_time": "2019-02-22T21:09:50.023013Z",
     "start_time": "2019-02-22T21:09:49.501339Z"
    }
   },
   "outputs": [
    {
     "data": {
      "text/plain": [
       "(5960717, 3)"
      ]
     },
     "execution_count": 3,
     "metadata": {},
     "output_type": "execute_result"
    }
   ],
   "source": [
    "point_cloud_nparr = np.array([in_file.X, in_file.Y, in_file.Z])\n",
    "point_cloud_nparr = point_cloud_nparr.T\n",
    "point_cloud_nparr.shape"
   ]
  },
  {
   "cell_type": "code",
   "execution_count": 4,
   "metadata": {
    "ExecuteTime": {
     "end_time": "2019-02-22T21:09:50.030006Z",
     "start_time": "2019-02-22T21:09:50.025008Z"
    }
   },
   "outputs": [
    {
     "data": {
      "text/plain": [
       "array([[ 44199914, 379210442,    205331],\n",
       "       [ 44199658, 379210390,    204755],\n",
       "       [ 44199504, 379210449,    204948],\n",
       "       ...,\n",
       "       [ 44167604, 379154071,    180946],\n",
       "       [ 44167787, 379154300,    180998],\n",
       "       [ 44167734, 379154302,    180977]])"
      ]
     },
     "execution_count": 4,
     "metadata": {},
     "output_type": "execute_result"
    }
   ],
   "source": [
    "point_cloud_nparr"
   ]
  },
  {
   "cell_type": "markdown",
   "metadata": {},
   "source": [
    "#  normalize X, Y, Z values using sklearn.preprocessing library"
   ]
  },
  {
   "cell_type": "code",
   "execution_count": 5,
   "metadata": {
    "ExecuteTime": {
     "end_time": "2019-02-22T21:09:52.709504Z",
     "start_time": "2019-02-22T21:09:50.031991Z"
    }
   },
   "outputs": [
    {
     "name": "stderr",
     "output_type": "stream",
     "text": [
      "C:\\Users\\chong\\Anaconda3\\envs\\cdi\\lib\\site-packages\\sklearn\\utils\\validation.py:590: DataConversionWarning: Data with input dtype int32 was converted to float64 by the scale function.\n",
      "  warnings.warn(msg, DataConversionWarning)\n"
     ]
    },
    {
     "data": {
      "text/plain": [
       "array([[-0.75530908,  0.14522554,  0.49736051],\n",
       "       [-0.76342378,  0.14363323,  0.44406902],\n",
       "       [-0.76830527,  0.14543989,  0.46192537],\n",
       "       [-0.77103131,  0.14491933,  0.44406902],\n",
       "       [-0.77901921,  0.14620543,  0.44268122],\n",
       "       [-0.77727582,  0.14935944,  0.50392942],\n",
       "       [-0.78367882,  0.15082927,  0.51105346],\n",
       "       [-0.79398069,  0.1515948 ,  0.49356719],\n",
       "       [-0.80646971,  0.14923695,  0.41279728],\n",
       "       [-0.81613762,  0.15018622,  0.39984448]])"
      ]
     },
     "execution_count": 5,
     "metadata": {},
     "output_type": "execute_result"
    }
   ],
   "source": [
    "from sklearn.preprocessing import scale\n",
    "point_cloud_nparr = scale( point_cloud_nparr, axis=0, with_mean=True, with_std=True, copy=True )\n",
    "point_cloud_nparr[:10,:]"
   ]
  },
  {
   "cell_type": "markdown",
   "metadata": {},
   "source": [
    "# 3D presentation of point clouds in pptk.viewer"
   ]
  },
  {
   "cell_type": "code",
   "execution_count": 6,
   "metadata": {
    "ExecuteTime": {
     "end_time": "2019-02-22T21:09:54.838788Z",
     "start_time": "2019-02-22T21:09:52.711478Z"
    }
   },
   "outputs": [],
   "source": [
    "import pptk\n",
    "v = pptk.viewer(point_cloud_nparr)\n",
    "v.set(point_size=0.01)"
   ]
  },
  {
   "cell_type": "markdown",
   "metadata": {},
   "source": [
    "# produce .ply (3D object) file using plyfile library"
   ]
  },
  {
   "cell_type": "code",
   "execution_count": 7,
   "metadata": {
    "ExecuteTime": {
     "end_time": "2019-02-22T21:09:54.867716Z",
     "start_time": "2019-02-22T21:09:54.840783Z"
    }
   },
   "outputs": [],
   "source": [
    "from plyfile import PlyData, PlyElement"
   ]
  },
  {
   "cell_type": "markdown",
   "metadata": {},
   "source": [
    "# conbine X, Y, Z values for each point & produce a (n, ) array"
   ]
  },
  {
   "cell_type": "code",
   "execution_count": 8,
   "metadata": {
    "ExecuteTime": {
     "end_time": "2019-02-22T21:09:55.421256Z",
     "start_time": "2019-02-22T21:09:54.870703Z"
    }
   },
   "outputs": [
    {
     "data": {
      "text/plain": [
       "(5960717, 3)"
      ]
     },
     "execution_count": 8,
     "metadata": {},
     "output_type": "execute_result"
    }
   ],
   "source": [
    "vertex = np.array(point_cloud_nparr, dtype=[('x', 'f4'), ('y', 'f4'), ('z', 'f4')])\n",
    "vertex.shape"
   ]
  },
  {
   "cell_type": "code",
   "execution_count": 9,
   "metadata": {
    "ExecuteTime": {
     "end_time": "2019-02-22T21:10:02.969075Z",
     "start_time": "2019-02-22T21:09:55.424226Z"
    },
    "scrolled": true
   },
   "outputs": [
    {
     "data": {
      "text/plain": [
       "(5960717,)"
      ]
     },
     "execution_count": 9,
     "metadata": {},
     "output_type": "execute_result"
    }
   ],
   "source": [
    "point_cloud_lst = list(map(tuple, point_cloud_nparr))\n",
    "vertex = np.array(point_cloud_lst,\n",
    "                  dtype=[('x', 'f4'), ('y', 'f4'),('z', 'f4')])\n",
    "vertex.shape"
   ]
  },
  {
   "cell_type": "markdown",
   "metadata": {},
   "source": [
    "# compile objects for 'vertex' & 'face' respectively & output .ply file"
   ]
  },
  {
   "cell_type": "code",
   "execution_count": 10,
   "metadata": {
    "ExecuteTime": {
     "end_time": "2019-02-22T21:10:02.990993Z",
     "start_time": "2019-02-22T21:10:02.971043Z"
    }
   },
   "outputs": [
    {
     "data": {
      "text/plain": [
       "PlyElement('vertex', (PlyProperty('x', 'float'), PlyProperty('y', 'float'), PlyProperty('z', 'float')), count=5960717, comments=['vertices'])"
      ]
     },
     "execution_count": 10,
     "metadata": {},
     "output_type": "execute_result"
    }
   ],
   "source": [
    "el = PlyElement.describe(vertex, 'vertex', comments=['vertices'])\n",
    "el"
   ]
  },
  {
   "cell_type": "code",
   "execution_count": 11,
   "metadata": {
    "ExecuteTime": {
     "end_time": "2019-02-22T21:10:03.241318Z",
     "start_time": "2019-02-22T21:10:02.993981Z"
    }
   },
   "outputs": [],
   "source": [
    "# argument \"text = True\" will make output .ply file readable but significantly lower the performance of execution  \n",
    "PlyData([el], byte_order='=').write('pc_binary.ply')"
   ]
  }
 ],
 "metadata": {
  "kernelspec": {
   "display_name": "Python 3",
   "language": "python",
   "name": "python3"
  },
  "language_info": {
   "codemirror_mode": {
    "name": "ipython",
    "version": 3
   },
   "file_extension": ".py",
   "mimetype": "text/x-python",
   "name": "python",
   "nbconvert_exporter": "python",
   "pygments_lexer": "ipython3",
   "version": "3.6.7"
  },
  "latex_envs": {
   "LaTeX_envs_menu_present": true,
   "autoclose": false,
   "autocomplete": true,
   "bibliofile": "biblio.bib",
   "cite_by": "apalike",
   "current_citInitial": 1,
   "eqLabelWithNumbers": true,
   "eqNumInitial": 1,
   "hotkeys": {
    "equation": "Ctrl-E",
    "itemize": "Ctrl-I"
   },
   "labels_anchors": false,
   "latex_user_defs": false,
   "report_style_numbering": false,
   "user_envs_cfg": false
  },
  "toc": {
   "base_numbering": 1,
   "nav_menu": {},
   "number_sections": true,
   "sideBar": true,
   "skip_h1_title": false,
   "title_cell": "Table of Contents",
   "title_sidebar": "Contents",
   "toc_cell": false,
   "toc_position": {},
   "toc_section_display": true,
   "toc_window_display": false
  },
  "varInspector": {
   "cols": {
    "lenName": 16,
    "lenType": 16,
    "lenVar": 40
   },
   "kernels_config": {
    "python": {
     "delete_cmd_postfix": "",
     "delete_cmd_prefix": "del ",
     "library": "var_list.py",
     "varRefreshCmd": "print(var_dic_list())"
    },
    "r": {
     "delete_cmd_postfix": ") ",
     "delete_cmd_prefix": "rm(",
     "library": "var_list.r",
     "varRefreshCmd": "cat(var_dic_list()) "
    }
   },
   "position": {
    "height": "374.716px",
    "left": "1433.44px",
    "right": "20px",
    "top": "134.991px",
    "width": "297.145px"
   },
   "types_to_exclude": [
    "module",
    "function",
    "builtin_function_or_method",
    "instance",
    "_Feature"
   ],
   "window_display": true
  }
 },
 "nbformat": 4,
 "nbformat_minor": 2
}
